{
  "cells": [
    {
      "cell_type": "markdown",
      "source": [
        "# <center>Funciones Con Argumentos</center>"
      ],
      "metadata": {
        "nteract": {
          "transient": {
            "deleting": false
          }
        }
      }
    },
    {
      "cell_type": "markdown",
      "source": [
        "En este cuaderno realizaremos distintos ejemplos de funciones que hagan uso de argumentos."
      ],
      "metadata": {
        "nteract": {
          "transient": {
            "deleting": false
          }
        }
      }
    },
    {
      "cell_type": "markdown",
      "source": [
        "Comencemos por un ejemplo en el cual calculemos el área de un triángulo. La función recibirá los valores de la base y la altura como argumentos y regresará el valor calculado.\n",
        "\n",
        "La petición del nombre se realizará fuera del procedimiento creado."
      ],
      "metadata": {
        "nteract": {
          "transient": {
            "deleting": false
          }
        }
      }
    },
    {
      "cell_type": "code",
      "source": [
        "'''\n",
        "script en Python que implemente una función para calcular el área de un\n",
        "triángulo. Dicha función deberá recibir como parámetro el valor de la base\n",
        "y la altura y regresará el área calculada.\n",
        "'''\n",
        "\n",
        "def area_triangulo(base, altura):\n",
        "    return base * altura / 2\n",
        "\n",
        "b = float(input('Base: '))\n",
        "h = float(input('Altura: '))\n",
        "\n",
        "area = area_triangulo(b, h)\n",
        "print(f'Área: {area}')"
      ],
      "outputs": [],
      "execution_count": null,
      "metadata": {
        "collapsed": true,
        "jupyter": {
          "source_hidden": false,
          "outputs_hidden": false
        },
        "nteract": {
          "transient": {
            "deleting": false
          }
        },
        "execution": {
          "iopub.status.busy": "2020-10-30T04:47:54.554Z",
          "iopub.execute_input": "2020-10-30T04:47:54.610Z",
          "iopub.status.idle": "2020-10-30T04:47:58.566Z",
          "shell.execute_reply": "2020-10-30T04:47:58.638Z"
        }
      }
    },
    {
      "cell_type": "markdown",
      "source": [
        "A continuación implementaremos una función que se encargue de calcular el índice de masa corporal del usuario. La función recibirá los valores de masa y estatura como argumentos."
      ],
      "metadata": {
        "nteract": {
          "transient": {
            "deleting": false
          }
        }
      }
    },
    {
      "cell_type": "code",
      "source": [
        "def calcular_imc(masa, estatura):\n",
        "    return masa / (estatura ** 2)"
      ],
      "outputs": [],
      "execution_count": null,
      "metadata": {
        "collapsed": true,
        "jupyter": {
          "source_hidden": false,
          "outputs_hidden": false
        },
        "nteract": {
          "transient": {
            "deleting": false
          }
        },
        "execution": {
          "iopub.status.busy": "2020-10-30T04:53:28.643Z",
          "iopub.execute_input": "2020-10-30T04:53:28.666Z",
          "iopub.status.idle": "2020-10-30T04:53:28.713Z",
          "shell.execute_reply": "2020-10-30T04:53:28.736Z"
        }
      }
    },
    {
      "cell_type": "markdown",
      "source": [
        "Hasta este momento hemos creado nuestros scripts escribiendo el código al borde de la página y utilizándolo en cuanto lo escribimos; sin embargo es recomendable tener una organización mayor en nuestro código.\n",
        "\n",
        "Se sugiere que exista un procedimiento principal que sea a partir del cual se ejecute el demás código. A continuación crearemos un procedimiento principal \"main\" en el cual haremos uso de la función para calcular el índice de masa corporal."
      ],
      "metadata": {
        "nteract": {
          "transient": {
            "deleting": false
          }
        }
      }
    },
    {
      "cell_type": "code",
      "source": [
        "def main():\n",
        "    m = float(input('Masa (kilos): '))\n",
        "    e = float(input('Estatura (metros): '))\n",
        "    imc = calcular_imc(m, e)\n",
        "    print(f'Tu IMC es: {imc}')"
      ],
      "outputs": [],
      "execution_count": null,
      "metadata": {
        "collapsed": true,
        "jupyter": {
          "source_hidden": false,
          "outputs_hidden": false
        },
        "nteract": {
          "transient": {
            "deleting": false
          }
        },
        "execution": {
          "iopub.status.busy": "2020-10-30T04:57:19.982Z",
          "iopub.execute_input": "2020-10-30T04:57:20.014Z",
          "iopub.status.idle": "2020-10-30T04:57:20.082Z",
          "shell.execute_reply": "2020-10-30T04:57:20.120Z"
        }
      }
    },
    {
      "cell_type": "markdown",
      "source": [
        "Como siguiente paso deberemos utilizar el procedimiento main previamente creado, sin embargo si escribimos justo al borde de la página el código, no habremos ganado nada, lo que debemos hacer es escribir una estructura selectiva simple que evalúe si el script que estamos ejecutando es el principal o no.\n",
        "\n",
        "En la siguiente celda se muestra el código correspondiente."
      ],
      "metadata": {
        "nteract": {
          "transient": {
            "deleting": false
          }
        }
      }
    },
    {
      "cell_type": "code",
      "source": [
        "#Este llamado a procedimiento produce un error.\n",
        "mayoria_edad(edad=-543, 'Pepe nava')"
      ],
      "outputs": [],
      "execution_count": null,
      "metadata": {
        "collapsed": true,
        "jupyter": {
          "source_hidden": false,
          "outputs_hidden": false
        },
        "nteract": {
          "transient": {
            "deleting": false
          }
        },
        "execution": {
          "iopub.status.busy": "2020-10-23T01:46:56.665Z",
          "iopub.execute_input": "2020-10-23T01:46:56.688Z",
          "iopub.status.idle": "2020-10-23T01:46:56.769Z",
          "shell.execute_reply": "2020-10-23T01:46:56.790Z"
        }
      }
    },
    {
      "cell_type": "code",
      "source": [
        "#Este llamado también genera un error.\n",
        "mayoria_edad(nombre='Pepe nava', -534)"
      ],
      "outputs": [],
      "execution_count": null,
      "metadata": {
        "collapsed": true,
        "jupyter": {
          "source_hidden": false,
          "outputs_hidden": false
        },
        "nteract": {
          "transient": {
            "deleting": false
          }
        },
        "execution": {
          "iopub.status.busy": "2020-10-23T01:47:58.577Z",
          "iopub.execute_input": "2020-10-23T01:47:58.606Z",
          "iopub.status.idle": "2020-10-23T01:47:58.659Z",
          "shell.execute_reply": "2020-10-23T01:47:58.691Z"
        }
      }
    },
    {
      "cell_type": "markdown",
      "source": [
        "Como siguiente ejemplo crearemos un procedimiento que imprima la tabla de multiplicar de un número recibido como argumento.\n",
        "\n",
        "Para este ejemplo colocaremos un segundo argumento que tenga un **valor por omisión**, es decir, ese argumento será opcional y si al momento de utilizar el procedimiento no le enviamos valor entonces tomará uno preestablecido, pero si le enviamos un valor entonces trabajará con él."
      ],
      "metadata": {
        "nteract": {
          "transient": {
            "deleting": false
          }
        }
      }
    },
    {
      "cell_type": "code",
      "source": [
        "if __name__ == '__main__':\n",
        "    main()"
      ],
      "outputs": [],
      "execution_count": null,
      "metadata": {
        "collapsed": true,
        "jupyter": {
          "source_hidden": false,
          "outputs_hidden": false
        },
        "nteract": {
          "transient": {
            "deleting": false
          }
        },
        "execution": {
          "iopub.status.busy": "2020-10-30T05:03:25.619Z",
          "iopub.execute_input": "2020-10-30T05:03:25.648Z",
          "iopub.status.idle": "2020-10-30T05:03:38.906Z",
          "shell.execute_reply": "2020-10-30T05:03:38.941Z"
        }
      }
    },
    {
      "cell_type": "markdown",
      "source": [
        "Aquí tienes el <a href=\"https://drive.google.com/file/d/1zTzgDI1JfKZInCEHTlrOQjfCGDA9VIIU/view?usp=sharing\">enlace </a> con los scripts correspondientes a este cuaderno. Puede abrirlos en tu editor y tratar de correrlos ahí también."
      ],
      "metadata": {
        "nteract": {
          "transient": {
            "deleting": false
          }
        }
      }
    }
  ],
  "metadata": {
    "kernel_info": {
      "name": "venv"
    },
    "language_info": {
      "name": "python",
      "version": "3.7.3",
      "mimetype": "text/x-python",
      "codemirror_mode": {
        "name": "ipython",
        "version": 3
      },
      "pygments_lexer": "ipython3",
      "nbconvert_exporter": "python",
      "file_extension": ".py"
    },
    "kernelspec": {
      "argv": [
        "/home/fel/Documents/Profesor/nteract/venv/bin/python",
        "-m",
        "ipykernel_launcher",
        "-f",
        "{connection_file}"
      ],
      "display_name": "venv",
      "language": "python",
      "name": "venv"
    },
    "nteract": {
      "version": "0.26.0"
    }
  },
  "nbformat": 4,
  "nbformat_minor": 0
}