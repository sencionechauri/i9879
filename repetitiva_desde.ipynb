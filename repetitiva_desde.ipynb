{
  "cells": [
    {
      "cell_type": "markdown",
      "source": [
        "# <center>Estructura Repetitiva Desde/Para (for)</center>"
      ],
      "metadata": {
        "nteract": {
          "transient": {
            "deleting": false
          }
        }
      }
    },
    {
      "cell_type": "markdown",
      "source": [
        "## <center>Patrón</center>\n",
        "\n",
        "```\n",
        "for <objetivo> in <expresión_de_lista>:\n",
        "    <instrucciones>\n",
        "[else : <instrucciones>]\n",
        "\n",
        "*Reemplazar todo lo encerrado entre < y > omitiendo esos símbolos. La parte else es opcional.\n",
        "```\n",
        "\n"
      ],
      "metadata": {
        "nteract": {
          "transient": {
            "deleting": false
          }
        }
      }
    },
    {
      "cell_type": "markdown",
      "source": [
        "## <center>Características</center>\n",
        "\n",
        "* La **expresión_de_lista** se evalúa una sola vez; Debe entregar un objeto iterable. Se crea un iterador para el resultado de esta expresión.\n",
        "\n",
        "* Las instrucciones se ejecutan una por cada elemento del iterador. Cade elemento en turno es asignado al **objetivo** y posteriormente se ejecutan las instrucciones.\n",
        "\n",
        "* Cuando se agotan los elementos (que es inmediatamente después de que la secuencia está vacía), se ejecutan las instrucciones en la parte else, si está presente, y termina el ciclo."
      ],
      "metadata": {
        "nteract": {
          "transient": {
            "deleting": false
          }
        }
      }
    },
    {
      "cell_type": "markdown",
      "source": [
        "La estructura *for* es bastante útil cuando sabemos cuántas veces debe suceder una instrucción. En este cuaderno veremos distintos ejemplos que cubran varios casos de uso para esta estructura repetitiva."
      ],
      "metadata": {
        "nteract": {
          "transient": {
            "deleting": false
          }
        }
      }
    },
    {
      "cell_type": "markdown",
      "source": [
        "## <center>Ejemplos</center>"
      ],
      "metadata": {
        "nteract": {
          "transient": {
            "deleting": false
          }
        }
      }
    },
    {
      "cell_type": "markdown",
      "source": [
        "Comencemos con un script sencillo que muestre los números del 0 al 13 usando un ciclo for."
      ],
      "metadata": {
        "nteract": {
          "transient": {
            "deleting": false
          }
        }
      }
    },
    {
      "cell_type": "code",
      "source": [
        "'''\n",
        "script en Python que muestre los numeros enteros desde el 0 hasta el 13\n",
        "usando un ciclo for.\n",
        "'''\n",
        "\n",
        "for numero in range(14):\n",
        "    #range(valor) produce una colección desde el 0 hasta el valor - 1\n",
        "    print(numero)"
      ],
      "outputs": [],
      "execution_count": null,
      "metadata": {
        "collapsed": true,
        "jupyter": {
          "source_hidden": false,
          "outputs_hidden": false
        },
        "nteract": {
          "transient": {
            "deleting": false
          }
        },
        "execution": {
          "iopub.status.busy": "2020-10-16T03:41:23.436Z",
          "iopub.execute_input": "2020-10-16T03:41:23.473Z",
          "iopub.status.idle": "2020-10-16T03:41:23.585Z",
          "shell.execute_reply": "2020-10-16T03:41:23.635Z"
        }
      }
    },
    {
      "cell_type": "markdown",
      "source": [
        "El funcionamiento en el cilo anterior fue el siguiente: \n",
        "\n",
        "* La instrucción **range(14)** generó una lista con los valores : $[0, 1, 2, 3, 4, 5, 6, 7, 8, 9, 10, 11, 12, 13]$.\n",
        "* Como parte del funcionamiento del ciclo se extrajeron y asignaron uno a uno los elementos de la lista a la variable *numero* y cada uno de esos valores se imprimió como única instrucción del ciclo.\n",
        "* Una vez que la lista quedó vacía, el ciclo for terminó su ejecución."
      ],
      "metadata": {
        "nteract": {
          "transient": {
            "deleting": false
          }
        }
      }
    },
    {
      "cell_type": "markdown",
      "source": [
        "Como siguiente ejemplo veremos distintas maneras de imprimir números pares haciendo uso de un ciclo for."
      ],
      "metadata": {
        "nteract": {
          "transient": {
            "deleting": false
          }
        }
      }
    },
    {
      "cell_type": "code",
      "source": [
        "'''\n",
        "script en Python que imprima los números pares desde el 2 hasta el 30 haciendo uso de un ciclo for.\n",
        "'''\n",
        "\n",
        "#Podemos generar los valores del 1 al 15 y multiplicarlos por 2\n",
        "print('Método 1')\n",
        "#range() acepta un valor inicial y un valor final para la colección producida\n",
        "for n in range(1, 16):\n",
        "    print(n*2)\n",
        "\n",
        "#También podemos generar los número del 1 al 30 y evaluar si son exáctamente divisibles por 2.\n",
        "print('Método 2')\n",
        "for numero in range(1, 31):\n",
        "    if numero % 2 == 0:\n",
        "        print(numero)\n",
        "\n",
        "#O Podemos generar sólo números pares e imprimirlos!\n",
        "print('Método 3')\n",
        "#range() incluso permite definir el valor inicial, el valor final y el paso o incremento/decremento deseado\n",
        "for par in range(2, 31, 2):\n",
        "    print(par)"
      ],
      "outputs": [],
      "execution_count": null,
      "metadata": {
        "collapsed": true,
        "jupyter": {
          "source_hidden": false,
          "outputs_hidden": false
        },
        "nteract": {
          "transient": {
            "deleting": false
          }
        },
        "execution": {
          "iopub.status.busy": "2020-10-16T03:51:35.394Z",
          "iopub.execute_input": "2020-10-16T03:51:35.428Z",
          "iopub.status.idle": "2020-10-16T03:51:35.528Z",
          "shell.execute_reply": "2020-10-16T03:51:35.572Z"
        }
      }
    },
    {
      "cell_type": "markdown",
      "source": [
        "En nuestro siguiente ejemplo realizaremos una cuenta regresiva desde el 10 hasta el 0 e incluso esperaremos un segundo entre cada valor. Al igual que en el ejemplo anterior veremos más de una forma de implementar el programa."
      ],
      "metadata": {
        "nteract": {
          "transient": {
            "deleting": false
          }
        }
      }
    },
    {
      "cell_type": "code",
      "source": [
        "'''\n",
        "script en Python que muestre una cuenta regresiva usando un ciclo for y esperando un segundo entre cada número.\n",
        "'''\n",
        "import time\n",
        "\n",
        "#versión 1: Generando números del 0 al 10 y restar a 10 cada uno de esos datos.\n",
        "for x in range(11):\n",
        "    print(10-x)\n",
        "    time.sleep(1)\n",
        "else:\n",
        "    print('Feliz año nuevo')\n",
        "input('Presiona enter para continuar...')\n",
        "\n",
        "#Versión 2: Generar una colección en orden decreciente. range(10, -1, -1) prduce valores del 10 al 0.\n",
        "for t in range(10, -1, -1):\n",
        "    print(t)\n",
        "    time.sleep(1)\n",
        "else:\n",
        "    print('💣 Cataplum!💥')"
      ],
      "outputs": [],
      "execution_count": null,
      "metadata": {
        "collapsed": true,
        "jupyter": {
          "source_hidden": false,
          "outputs_hidden": false
        },
        "nteract": {
          "transient": {
            "deleting": false
          }
        },
        "execution": {
          "iopub.status.busy": "2020-10-16T04:01:24.647Z",
          "iopub.execute_input": "2020-10-16T04:01:24.687Z",
          "iopub.status.idle": "2020-10-16T04:02:36.907Z",
          "shell.execute_reply": "2020-10-16T04:02:36.956Z"
        }
      }
    },
    {
      "cell_type": "markdown",
      "source": [
        "En el siguiente ejemplo implementaremos un script que muestre la tabla de multiplicar de un número ingresado por el usuario, el usuario también indica hasta qué valor se realizará la multiplicación."
      ],
      "metadata": {
        "nteract": {
          "transient": {
            "deleting": false
          }
        }
      }
    },
    {
      "cell_type": "code",
      "source": [
        "'''\n",
        "script en Python que muestre la tabla de multiplicar de un número ingresado por el usuario.\n",
        "'''\n",
        "import os\n",
        "\n",
        "\n",
        "numero = int(input('¿De qué número quieres ver su tabla de multiplicar? '))\n",
        "limite = int(input('¿Hasta qué múltiplo quieres que sea? '))\n",
        "\n",
        "for multiplo in range(1, limite+1):\n",
        "    print(numero, 'x', multiplo, '=', numero * multiplo)"
      ],
      "outputs": [],
      "execution_count": null,
      "metadata": {
        "collapsed": true,
        "jupyter": {
          "source_hidden": false,
          "outputs_hidden": false
        },
        "nteract": {
          "transient": {
            "deleting": false
          }
        },
        "execution": {
          "iopub.status.busy": "2020-10-16T04:44:01.292Z",
          "iopub.execute_input": "2020-10-16T04:44:01.351Z",
          "iopub.status.idle": "2020-10-16T04:44:12.391Z",
          "shell.execute_reply": "2020-10-16T04:44:12.465Z"
        }
      }
    },
    {
      "cell_type": "markdown",
      "source": [
        "Al igual que las estructuras selectivas, los ciclos se pueden anidar, es decir, podemos escribir un cíclo dentro de otro. \n",
        "\n",
        "Cuando tenemos ciclos anidados, para que el ciclo externo realice una vuelta, el ciclo interno debe terminar todas las suyas.\n",
        "\n",
        "Un ejemplo que nos permite observar ese comportamiento es de las primeras 10 tablas de multiplicar."
      ],
      "metadata": {
        "nteract": {
          "transient": {
            "deleting": false
          }
        }
      }
    },
    {
      "cell_type": "code",
      "source": [
        "'''\n",
        "script en Python que muestre las tablas de multiplicar de los números del 1 al 10. Cada tabla se muestra hasta el décimo múltiplo.\n",
        "'''\n",
        "\n",
        "for numero in range(1, 11):\n",
        "    print(f'                 Tabla del {numero}')\n",
        "    for multiplo in range(1, 11):\n",
        "        print(f'{numero} x {multiplo} = {numero * multiplo}')\n",
        "    input('Presiona enter para continuar...')"
      ],
      "outputs": [],
      "execution_count": null,
      "metadata": {
        "collapsed": true,
        "jupyter": {
          "source_hidden": false,
          "outputs_hidden": false
        },
        "nteract": {
          "transient": {
            "deleting": false
          }
        },
        "execution": {
          "iopub.status.busy": "2020-10-16T04:49:34.529Z",
          "iopub.execute_input": "2020-10-16T04:49:34.566Z",
          "iopub.status.idle": "2020-10-16T04:53:18.208Z",
          "shell.execute_reply": "2020-10-16T04:53:18.367Z"
        }
      }
    },
    {
      "cell_type": "markdown",
      "source": [
        "Para un ciclo for podemos usar cualquier expresión de lista, no sólo una generada por la instrucción range. Podemos incluso tratar de mostrar los símbolos de una cadena... a final de cuentas una cadena es una colección de símbolos ¿no?"
      ],
      "metadata": {
        "nteract": {
          "transient": {
            "deleting": false
          }
        }
      }
    },
    {
      "cell_type": "code",
      "source": [
        "'''\n",
        "script en Python que muestre uno a uno los símbolos de una palabra o frase. Por ejemplo si la frase fuera \"Hola mundo\" se debería imprimir:\n",
        "H\n",
        "o\n",
        "l\n",
        "a\n",
        "\n",
        "m\n",
        "u\n",
        "n\n",
        "d\n",
        "o\n",
        "'''\n",
        "\n",
        "frase = input('Escribe una frase')\n",
        "\n",
        "for simbolo in frase:\n",
        "    print(simbolo)"
      ],
      "outputs": [],
      "execution_count": null,
      "metadata": {
        "collapsed": true,
        "jupyter": {
          "source_hidden": false,
          "outputs_hidden": false
        },
        "nteract": {
          "transient": {
            "deleting": false
          }
        }
      }
    },
    {
      "cell_type": "markdown",
      "source": [
        "**Matemáticamente un ciclo for puede interpretarse como una suma** en la cual el valor inicial sea el límite inferior de la suma, el valor final sea el límite superior de la suma y el cuerpo del ciclo sea la operación indicada por la suma.\n",
        "\n",
        "Como ejemplo veamos cómo calcular el promedio de un conjunto de valores, es decir, la media aritmética, que está definida como:\n",
        "\n",
        "$$\\bar x = \\frac{1}{n} \\sum_{i=1}^{n} x_{i} = \\frac{x_{1} + x_{2} + \\cdots + x_{n}}{n}$$"
      ],
      "metadata": {
        "nteract": {
          "transient": {
            "deleting": false
          }
        }
      }
    },
    {
      "cell_type": "code",
      "source": [
        "'''\n",
        "script en Python que pregunte al usuario una cantidad de numeros a registrar, le solicite dichos valores y finalmente imprima el promedio de los mismos.\n",
        "'''\n",
        "\n",
        "acumulador = 0\n",
        "print('Vamos a calcular un promedio')\n",
        "n = int(input('¿Cuántos datos deseas ingresar? '))\n",
        "\n",
        "for i in range(n):\n",
        "    numero = int(input(f'Ingresa el dato {i+1}: '))\n",
        "    acumulador += numero\n",
        "\n",
        "promedio = acumulador / n\n",
        "print(f'Promedio: {promedio}')"
      ],
      "outputs": [],
      "execution_count": null,
      "metadata": {
        "collapsed": true,
        "jupyter": {
          "source_hidden": false,
          "outputs_hidden": false
        },
        "nteract": {
          "transient": {
            "deleting": false
          }
        },
        "execution": {
          "iopub.status.busy": "2020-10-16T05:09:00.793Z",
          "iopub.execute_input": "2020-10-16T05:09:00.835Z",
          "iopub.status.idle": "2020-10-16T05:09:13.730Z",
          "shell.execute_reply": "2020-10-16T05:09:13.798Z"
        }
      }
    },
    {
      "cell_type": "markdown",
      "source": [
        "Aquí tienes el <a href=\"https://drive.google.com/file/d/1o8FjFDCwofF4lAgX8N50op8ZA8QWRAYc/view?usp=sharing\">enlace </a> con los scripts correspondientes a este cuaderno. Puede abrirlos en tu editor y tratar de correrlos ahí también."
      ],
      "metadata": {
        "nteract": {
          "transient": {
            "deleting": false
          }
        }
      }
    }
  ],
  "metadata": {
    "kernel_info": {
      "name": "venv"
    },
    "language_info": {
      "name": "python",
      "version": "3.7.3",
      "mimetype": "text/x-python",
      "codemirror_mode": {
        "name": "ipython",
        "version": 3
      },
      "pygments_lexer": "ipython3",
      "nbconvert_exporter": "python",
      "file_extension": ".py"
    },
    "kernelspec": {
      "argv": [
        "/home/fel/Documents/Profesor/nteract/venv/bin/python",
        "-m",
        "ipykernel_launcher",
        "-f",
        "{connection_file}"
      ],
      "display_name": "venv",
      "language": "python",
      "name": "venv"
    },
    "nteract": {
      "version": "0.25.1"
    }
  },
  "nbformat": 4,
  "nbformat_minor": 0
}