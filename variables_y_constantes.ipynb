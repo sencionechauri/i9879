{
  "cells": [
    {
      "cell_type": "markdown",
      "source": [
        "# <center>Variables y Constantes</center>"
      ],
      "metadata": {
        "nteract": {
          "transient": {
            "deleting": false
          }
        }
      }
    },
    {
      "cell_type": "markdown",
      "source": [
        "## <center>Variables</center>\n",
        "A medida que nuetros programas crecen y manejamos varios datos cada uno con un tipo particular asociado la complejidad del programa crece y recordar que representa cada dato se vuelve complicado. Es por ello que resulta muy conveniente poder asociar un *nombre*, *identificador* o *alias* con un dato particular.\n",
        "\n",
        "Al momento de asociar un identificador para un dato creamos una **variable**. Puedes imaginarla como una paqueña caja en la cual guardas un valor y a esa caja le pones una etiqueta para saber qué almacenaste ahí &#x1F4E5; ."
      ],
      "metadata": {
        "nteract": {
          "transient": {
            "deleting": false
          }
        }
      }
    },
    {
      "cell_type": "markdown",
      "source": [
        "Las variables son útiles para dar contexto a la información que estamos utilizando; por ejemplo en un programa podríamos tener los datos numéricos: 33 y 1.7 y podríamos darles distintas interpretaciones ¿serán la edad y estatura en metros de una persona? ¿serán las vueltas que un atleta le ha dado a la pista y la cantidad de litros de agua que debe reponer en su cuerpo?. Si asignamos **nombres significativos** a nuestros datos podemos proveer el contexto que hace falta.\n",
        "\n",
        "Para definir el nombre de una variable utilizaremos combinaciones de letras del alfabeto inglés, números y guiones bajos, siempre iniciaremos con una letra o guión bajo y a partir de ahí podemos hacer combinaciones de los demás simbolos. En Python se sugiere que los nombres compuestos se escriban separados por un guión bajo."
      ],
      "metadata": {
        "nteract": {
          "transient": {
            "deleting": false
          }
        }
      }
    },
    {
      "cell_type": "markdown",
      "source": [
        "Algunos ejemplos de identificadores válidos son los siguientes:\n",
        "\n",
        "nombre<br>\n",
        "edad<br>\n",
        "estatura<br>\n",
        "\\_nacionalidad<br>\n",
        "apellido\\_materno<br>\n",
        "tortuga55<br>\n",
        "energia\\_"
      ],
      "metadata": {
        "nteract": {
          "transient": {
            "deleting": false
          }
        }
      }
    },
    {
      "cell_type": "markdown",
      "source": [
        "Finalmente, para asignar valor a una variable escribiremos el nombre de la variable seguido del operador de asignación *=* seguido del valor que queremos guardar. **En Python no es necesario especificar el tipo de dato para las variables**. A continuación unos ejemplos."
      ],
      "metadata": {
        "nteract": {
          "transient": {
            "deleting": false
          }
        }
      }
    },
    {
      "cell_type": "code",
      "source": [
        "nombre = 'Lucy Sonido' #El dato 'Lucy Sonido' se asocia a la variable nombre\n",
        "edad = 222 #El dato numérico 222 se asocia a la variable edad\n",
        "_un_numero_real = 33.44\n",
        "pandemia_activa = True"
      ],
      "outputs": [],
      "execution_count": null,
      "metadata": {
        "collapsed": true,
        "jupyter": {
          "source_hidden": false,
          "outputs_hidden": false
        },
        "nteract": {
          "transient": {
            "deleting": false
          }
        },
        "execution": {
          "iopub.status.busy": "2020-09-18T00:19:17.895Z",
          "iopub.execute_input": "2020-09-18T00:19:17.926Z",
          "iopub.status.idle": "2020-09-18T00:19:17.964Z",
          "shell.execute_reply": "2020-09-18T00:19:17.979Z"
        }
      }
    },
    {
      "cell_type": "markdown",
      "source": [
        "Para consultar el valor almacenado en una variable basta con usar el identificador asociado, en ese caso lo que hacemos es obtener lo que almacenamos en la pequeña caja etiquetada que creamos previamente &#x1F4E4;"
      ],
      "metadata": {
        "nteract": {
          "transient": {
            "deleting": false
          }
        }
      }
    },
    {
      "cell_type": "code",
      "source": [
        "nombre #¿Qué hay en la variable llamda nombre?"
      ],
      "outputs": [],
      "execution_count": null,
      "metadata": {
        "collapsed": true,
        "jupyter": {
          "source_hidden": false,
          "outputs_hidden": false
        },
        "nteract": {
          "transient": {
            "deleting": false
          }
        },
        "execution": {
          "iopub.status.busy": "2020-09-18T00:22:44.221Z",
          "iopub.execute_input": "2020-09-18T00:22:44.247Z",
          "iopub.status.idle": "2020-09-18T00:22:44.327Z",
          "shell.execute_reply": "2020-09-18T00:22:44.348Z"
        }
      }
    },
    {
      "cell_type": "code",
      "source": [
        "type(nombre) #¿De qué tipo es la variable que llamamos nombre?"
      ],
      "outputs": [],
      "execution_count": null,
      "metadata": {
        "collapsed": true,
        "jupyter": {
          "source_hidden": false,
          "outputs_hidden": false
        },
        "nteract": {
          "transient": {
            "deleting": false
          }
        },
        "execution": {
          "iopub.status.busy": "2020-09-18T00:23:52.080Z",
          "iopub.execute_input": "2020-09-18T00:23:52.103Z",
          "iopub.status.idle": "2020-09-18T00:23:52.301Z",
          "shell.execute_reply": "2020-09-18T00:23:52.321Z"
        }
      }
    },
    {
      "cell_type": "markdown",
      "source": [
        "Las variables son llamadas así porque su valor puede cambiar en cualquier momento, basta con asignarles un dato nuevo y listo; ¡No importa si el nuevo dato es de tipo distinto que el anterior! &#x1F92F;"
      ],
      "metadata": {
        "nteract": {
          "transient": {
            "deleting": false
          }
        }
      }
    },
    {
      "cell_type": "code",
      "source": [
        "pandemia_activa = 'sí' #Reemplazamos el valor previo e incluso con un dato de distinto tipo\n",
        "pandemia_activa"
      ],
      "outputs": [],
      "execution_count": null,
      "metadata": {
        "collapsed": true,
        "jupyter": {
          "source_hidden": false,
          "outputs_hidden": false
        },
        "nteract": {
          "transient": {
            "deleting": false
          }
        },
        "execution": {
          "iopub.status.busy": "2020-09-18T00:28:21.051Z",
          "iopub.execute_input": "2020-09-18T00:28:21.081Z",
          "iopub.status.idle": "2020-09-18T00:28:21.162Z",
          "shell.execute_reply": "2020-09-18T00:28:21.203Z"
        }
      }
    },
    {
      "cell_type": "markdown",
      "source": [
        "## <center>Constantes</center>\n",
        "\n",
        "En Python las constantes suelen escribirse en mayúsculas. En realidad siguen siendo variables, es decir que puedes modificar su valor, sin embargo dentro de la comunidad de programadores de Python se asume que si encuentras algo escrito en su totalidad en mayúsculas debe ser tratado como una constante."
      ],
      "metadata": {
        "nteract": {
          "transient": {
            "deleting": false
          }
        }
      }
    },
    {
      "cell_type": "code",
      "source": [
        "PI = 3.1415 #Una constante llamada PI"
      ],
      "outputs": [],
      "execution_count": null,
      "metadata": {
        "collapsed": true,
        "jupyter": {
          "source_hidden": false,
          "outputs_hidden": false
        },
        "nteract": {
          "transient": {
            "deleting": false
          }
        }
      }
    },
    {
      "cell_type": "code",
      "source": [
        "#Hora de practicar, crea una variable para tu nombre y asínale el valor correspondiente, otra para tu edad y asígnale valor y finalmente otra para tu código de estudiante."
      ],
      "outputs": [],
      "execution_count": null,
      "metadata": {
        "collapsed": true,
        "jupyter": {
          "source_hidden": false,
          "outputs_hidden": false
        },
        "nteract": {
          "transient": {
            "deleting": false
          }
        },
        "execution": {
          "iopub.status.busy": "2020-09-18T00:41:46.343Z",
          "iopub.execute_input": "2020-09-18T00:41:46.387Z",
          "iopub.status.idle": "2020-09-18T00:41:46.454Z",
          "shell.execute_reply": "2020-09-18T00:41:46.495Z"
        }
      }
    }
  ],
  "metadata": {
    "kernel_info": {
      "name": "venv"
    },
    "language_info": {
      "name": "python",
      "version": "3.7.3",
      "mimetype": "text/x-python",
      "codemirror_mode": {
        "name": "ipython",
        "version": 3
      },
      "pygments_lexer": "ipython3",
      "nbconvert_exporter": "python",
      "file_extension": ".py"
    },
    "kernelspec": {
      "argv": [
        "/home/fel/Documents/Profesor/nteract/venv/bin/python",
        "-m",
        "ipykernel_launcher",
        "-f",
        "{connection_file}"
      ],
      "display_name": "venv",
      "language": "python",
      "name": "venv"
    },
    "nteract": {
      "version": "0.25.0"
    }
  },
  "nbformat": 4,
  "nbformat_minor": 0
}