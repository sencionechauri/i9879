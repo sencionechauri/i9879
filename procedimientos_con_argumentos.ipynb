{
  "cells": [
    {
      "cell_type": "markdown",
      "source": [
        "# <center>Procedimientos Con Argumentos</center>"
      ],
      "metadata": {
        "nteract": {
          "transient": {
            "deleting": false
          }
        }
      }
    },
    {
      "cell_type": "markdown",
      "source": [
        "En este cuaderno realizaremos distintos ejemplos de procedimientos que hagan uso de argumentos.\n",
        "\n",
        "Un argumento es un valor que el procedimiento recibirá entre los paréntesis y trabajará como una variable local dentro del procedimiento.\n",
        "\n",
        "El uso de argumentos permite encapsular el comportamiento específico del procedimiento y mover la petición de datos fuera del mismo de forma tal que la solicitud de dichos datos puede hacerse de distintas maneras y el comportamiento del procedimiento no se vea afectado."
      ],
      "metadata": {
        "nteract": {
          "transient": {
            "deleting": false
          }
        }
      }
    },
    {
      "cell_type": "markdown",
      "source": [
        "Comencemos por un ejemplo en el cual hagamos un procedimiento que reciba como argumento el nombre del usuario e imprima un saludo en pantalla.\n",
        "\n",
        "La petición del nombre se realizará fuera del procedimiento creado."
      ],
      "metadata": {
        "nteract": {
          "transient": {
            "deleting": false
          }
        }
      }
    },
    {
      "cell_type": "code",
      "source": [
        "'''\n",
        "script en Python que implemente un procedimiento que reciba el nombre del\n",
        "usuario como parámetro e imprima un saludo personalizado.\n",
        "'''\n",
        "\n",
        "#Creamos el procedimiento indicando el identificador para el parámetro\n",
        "def saludo(nombre):\n",
        "    print(f'Hola {nombre}, gusto en verte')\n",
        "\n",
        "nom = input('¿Cómo te llamas? ')\n",
        "#Llamamos el procedimiento con la variable leída como argumento\n",
        "saludo(nom)\n",
        "\n",
        "#Podemos enviar incluso valores predefinidos, no necesariamente solicitados al usuario\n",
        "saludo('Pedro')\n",
        "saludo('María')"
      ],
      "outputs": [],
      "execution_count": null,
      "metadata": {
        "collapsed": true,
        "jupyter": {
          "source_hidden": false,
          "outputs_hidden": false
        },
        "nteract": {
          "transient": {
            "deleting": false
          }
        },
        "execution": {
          "iopub.status.busy": "2020-10-23T01:09:30.759Z",
          "iopub.execute_input": "2020-10-23T01:09:30.793Z",
          "iopub.status.idle": "2020-10-23T01:09:41.884Z",
          "shell.execute_reply": "2020-10-23T01:09:41.948Z"
        }
      }
    },
    {
      "cell_type": "markdown",
      "source": [
        "Un procedimiento puede tener cuantos argumentos necesite para trabajar y cada argumento será separado con una coma.\n",
        "\n",
        "En el siguiente ejemplo implementaremos un procedimiento que reciba el nombre y la edad del usuario como argumento y le indique si es mayor de edad o no."
      ],
      "metadata": {
        "nteract": {
          "transient": {
            "deleting": false
          }
        }
      }
    },
    {
      "cell_type": "code",
      "source": [
        "'''\n",
        "script en Python que implemente un procedimiento que recibe el nombre y\n",
        "la edad del usuario y en caso de que la edad sea mayor o igual que 18\n",
        "le indique que ya es mayor de edad; en caso contrario le inquique que es\n",
        "menor de edad.\n",
        "'''\n",
        "\n",
        "def mayoria_edad(nombre, edad):\n",
        "    if edad >= 18:\n",
        "        print(f'{nombre}, ya eres mayor de edad')\n",
        "    else:\n",
        "        print(f'aún eres menor {nombre}')\n",
        "\n",
        "mayoria_edad('Lucy Sonido', 44)\n",
        "mayoria_edad('Pepe Nava', 55)"
      ],
      "outputs": [],
      "execution_count": null,
      "metadata": {
        "collapsed": true,
        "jupyter": {
          "source_hidden": false,
          "outputs_hidden": false
        },
        "nteract": {
          "transient": {
            "deleting": false
          }
        },
        "execution": {
          "iopub.status.busy": "2020-10-23T01:24:23.869Z",
          "iopub.execute_input": "2020-10-23T01:24:23.903Z",
          "iopub.status.idle": "2020-10-23T01:24:23.988Z",
          "shell.execute_reply": "2020-10-23T01:24:24.014Z"
        }
      }
    },
    {
      "cell_type": "markdown",
      "source": [
        "Los argumentos pueden ser utilizados en un orden distinto al que están delcarados en el procedimiento, para lograrlo se debe colocar el nombre del argumento y el valor correspondiente como una asignación. A continuación se muestran ejemplos de uso."
      ],
      "metadata": {
        "nteract": {
          "transient": {
            "deleting": false
          }
        }
      }
    },
    {
      "cell_type": "code",
      "source": [
        "#al argumento edad se le asigna -543 y a nombre 'Pepe nava'\n",
        "mayoria_edad(edad=-543, nombre='Pepe nava')\n",
        "mayoria_edad(edad=234, nombre='Susana Distancia')"
      ],
      "outputs": [],
      "execution_count": null,
      "metadata": {
        "collapsed": true,
        "jupyter": {
          "source_hidden": false,
          "outputs_hidden": false
        },
        "nteract": {
          "transient": {
            "deleting": false
          }
        },
        "execution": {
          "iopub.status.busy": "2020-10-23T01:43:53.983Z",
          "iopub.execute_input": "2020-10-23T01:43:54.008Z",
          "iopub.status.idle": "2020-10-23T01:43:54.082Z",
          "shell.execute_reply": "2020-10-23T01:43:54.118Z"
        }
      }
    },
    {
      "cell_type": "markdown",
      "source": [
        "Una vez que usamos un argumento nombrado (usar el nombre de la variable al llamar un procedimiento) todos los argumentos que sigan deberán ser nombrados."
      ],
      "metadata": {
        "nteract": {
          "transient": {
            "deleting": false
          }
        }
      }
    },
    {
      "cell_type": "code",
      "source": [
        "#Este llamado a procedimiento produce un error.\n",
        "mayoria_edad(edad=-543, 'Pepe nava')"
      ],
      "outputs": [],
      "execution_count": null,
      "metadata": {
        "collapsed": true,
        "jupyter": {
          "source_hidden": false,
          "outputs_hidden": false
        },
        "nteract": {
          "transient": {
            "deleting": false
          }
        },
        "execution": {
          "iopub.status.busy": "2020-10-23T01:46:56.665Z",
          "iopub.execute_input": "2020-10-23T01:46:56.688Z",
          "iopub.status.idle": "2020-10-23T01:46:56.769Z",
          "shell.execute_reply": "2020-10-23T01:46:56.790Z"
        }
      }
    },
    {
      "cell_type": "code",
      "source": [
        "#Este llamado también genera un error.\n",
        "mayoria_edad(nombre='Pepe nava', -534)"
      ],
      "outputs": [],
      "execution_count": null,
      "metadata": {
        "collapsed": true,
        "jupyter": {
          "source_hidden": false,
          "outputs_hidden": false
        },
        "nteract": {
          "transient": {
            "deleting": false
          }
        },
        "execution": {
          "iopub.status.busy": "2020-10-23T01:47:58.577Z",
          "iopub.execute_input": "2020-10-23T01:47:58.606Z",
          "iopub.status.idle": "2020-10-23T01:47:58.659Z",
          "shell.execute_reply": "2020-10-23T01:47:58.691Z"
        }
      }
    },
    {
      "cell_type": "markdown",
      "source": [
        "Como siguiente ejemplo crearemos un procedimiento que imprima la tabla de multiplicar de un número recibido como argumento.\n",
        "\n",
        "Para este ejemplo colocaremos un segundo argumento que tenga un **valor por omisión**, es decir, ese argumento será opcional y si al momento de utilizar el procedimiento no le enviamos valor entonces tomará uno preestablecido, pero si le enviamos un valor entonces trabajará con él."
      ],
      "metadata": {
        "nteract": {
          "transient": {
            "deleting": false
          }
        }
      }
    },
    {
      "cell_type": "code",
      "source": [
        "'''\n",
        "script en Python que implemente un procedimiento dentro del cual se\n",
        "muestre la tabla de multiplicar de un número recibido como parámetro. El\n",
        "procedimiento contará con un segundo parámetro que indicará hasta qué\n",
        "multiplo se calculará la tabla de multiplicar, ese segundo parámetro\n",
        "tendrá como valor por omisión el número 10.\n",
        "'''\n",
        "\n",
        "def tabla_multiplicar(n, limite = 10):\n",
        "    print(f'                     Tabla de multiplicar del {n}')\n",
        "    for multiplo in range(1, limite+1):\n",
        "        print(f'{n} X {multiplo} = {n*multiplo}')\n",
        "\n",
        "tabla_multiplicar(3, 15)"
      ],
      "outputs": [],
      "execution_count": null,
      "metadata": {
        "collapsed": true,
        "jupyter": {
          "source_hidden": false,
          "outputs_hidden": false
        },
        "nteract": {
          "transient": {
            "deleting": false
          }
        },
        "execution": {
          "iopub.status.busy": "2020-10-23T02:03:04.836Z",
          "iopub.execute_input": "2020-10-23T02:03:04.869Z",
          "iopub.status.idle": "2020-10-23T02:03:04.948Z",
          "shell.execute_reply": "2020-10-23T02:03:04.975Z"
        }
      }
    },
    {
      "cell_type": "code",
      "source": [
        "#Ahora un llamado en el cual se tome el valor por omisión\n",
        "tabla_multiplicar(5)"
      ],
      "outputs": [],
      "execution_count": null,
      "metadata": {
        "collapsed": true,
        "jupyter": {
          "source_hidden": false,
          "outputs_hidden": false
        },
        "nteract": {
          "transient": {
            "deleting": false
          }
        },
        "execution": {
          "iopub.status.busy": "2020-10-23T02:04:01.453Z",
          "iopub.execute_input": "2020-10-23T02:04:01.488Z",
          "iopub.status.idle": "2020-10-23T02:04:01.573Z",
          "shell.execute_reply": "2020-10-23T02:04:01.598Z"
        }
      }
    },
    {
      "cell_type": "markdown",
      "source": [
        "Aquí tienes el <a href=\"https://drive.google.com/file/d/1bPhDzfP091x9nZv_E6gbVV0zN4WYpkhC/view?usp=sharing\">enlace </a> con los scripts correspondientes a este cuaderno. Puede abrirlos en tu editor y tratar de correrlos ahí también."
      ],
      "metadata": {
        "nteract": {
          "transient": {
            "deleting": false
          }
        }
      }
    }
  ],
  "metadata": {
    "kernel_info": {
      "name": "venv"
    },
    "language_info": {
      "name": "python",
      "version": "3.7.3",
      "mimetype": "text/x-python",
      "codemirror_mode": {
        "name": "ipython",
        "version": 3
      },
      "pygments_lexer": "ipython3",
      "nbconvert_exporter": "python",
      "file_extension": ".py"
    },
    "kernelspec": {
      "argv": [
        "/home/fel/Documents/Profesor/nteract/venv/bin/python",
        "-m",
        "ipykernel_launcher",
        "-f",
        "{connection_file}"
      ],
      "display_name": "venv",
      "language": "python",
      "name": "venv"
    },
    "nteract": {
      "version": "0.25.1"
    }
  },
  "nbformat": 4,
  "nbformat_minor": 0
}