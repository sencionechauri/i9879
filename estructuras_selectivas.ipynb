{
  "cells": [
    {
      "cell_type": "markdown",
      "source": [
        "# <center>Estructuras de Control Selectivo(if)</center>"
      ],
      "metadata": {
        "nteract": {
          "transient": {
            "deleting": false
          }
        }
      }
    },
    {
      "cell_type": "markdown",
      "source": [
        "## <center>Bifurcación</center>\n",
        "\n",
        "En términos de programación es un segmento de código construido por una o varias sentencias, el cual se utiliza para ejecutar un grupo de instrucciones en específico. La ejecución de las instrucciones se realiza dependiendo de una condición dada."
      ],
      "metadata": {
        "nteract": {
          "transient": {
            "deleting": false
          }
        }
      }
    },
    {
      "cell_type": "markdown",
      "source": [
        "## <center>Estructuras Selectivas</center>\n",
        "\n",
        "Las estructuras selectivas se usan para tomar decisiones lógicas. También son conocidas como:\n",
        "\n",
        "* Estructuras de decisión\n",
        "* Estructuras alternativas"
      ],
      "metadata": {
        "nteract": {
          "transient": {
            "deleting": false
          }
        }
      }
    },
    {
      "cell_type": "markdown",
      "source": [
        "## <center>Funcionamiento</center>\n",
        "\n",
        "Se evalúa una condición y en función del resultado se realiza una opción u otra. Las condiciones se representan utilizando expresiones lógicas (Falso, Verdadero)."
      ],
      "metadata": {
        "nteract": {
          "transient": {
            "deleting": false
          }
        }
      }
    },
    {
      "cell_type": "markdown",
      "source": [
        "Se pueden clasificar en:\n",
        "\n",
        "* Simples\n",
        "* Dobles\n",
        "* Múltiples"
      ],
      "metadata": {
        "nteract": {
          "transient": {
            "deleting": false
          }
        }
      }
    }
  ],
  "metadata": {
    "kernel_info": {
      "name": "venv"
    },
    "language_info": {
      "name": "python",
      "version": "3.7.3",
      "mimetype": "text/x-python",
      "codemirror_mode": {
        "name": "ipython",
        "version": 3
      },
      "pygments_lexer": "ipython3",
      "nbconvert_exporter": "python",
      "file_extension": ".py"
    },
    "kernelspec": {
      "argv": [
        "/home/fel/Documents/Profesor/nteract/venv/bin/python",
        "-m",
        "ipykernel_launcher",
        "-f",
        "{connection_file}"
      ],
      "display_name": "venv",
      "language": "python",
      "name": "venv"
    },
    "nteract": {
      "version": "0.25.0"
    }
  },
  "nbformat": 4,
  "nbformat_minor": 0
}