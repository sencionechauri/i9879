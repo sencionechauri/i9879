{
  "cells": [
    {
      "cell_type": "markdown",
      "source": [
        "# <center>Estructuras de Control Repetitivo</center>"
      ],
      "metadata": {
        "nteract": {
          "transient": {
            "deleting": false
          }
        }
      }
    },
    {
      "cell_type": "markdown",
      "source": [
        "Para entender de mojor forma las estructuras de control repetitiva revisaremos primero algunos conceptos."
      ],
      "metadata": {
        "nteract": {
          "transient": {
            "deleting": false
          }
        }
      }
    },
    {
      "cell_type": "markdown",
      "source": [
        "## <center>Iteración</center>\n",
        "\n",
        "1. f. Acción y efecto de iterar. (RAE)\n",
        "\n",
        "\n",
        "Iterar\n",
        "\n",
        "1. tr. Repetir. (RAE)\n",
        "\n",
        "Las estrucuturas de control repetitivo se basan, como su nombre lo dice, en la repetición de una acción (una o varias instrucciones) mientras se cumpla cierta condición."
      ],
      "metadata": {
        "nteract": {
          "transient": {
            "deleting": false
          }
        }
      }
    },
    {
      "cell_type": "markdown",
      "source": [
        "## <center>Ciclo</center>\n",
        "\n",
        "Es un segmento de un algoritmo o programa, cuyas instrucciones se repiten un número establecido o indefinido de veces mientras se cumpla una determinada condición. En cada vuelta del ciclo o iteración se comprueba si la condición es verdadera, rompiéndose el ciclo cuando es falsa."
      ],
      "metadata": {
        "nteract": {
          "transient": {
            "deleting": false
          }
        }
      }
    },
    {
      "cell_type": "markdown",
      "source": [
        "## <center>Contadores y Acumuladores</center>\n",
        "\n",
        "Son variables que suelen ser utilizadas como parte del funcionamiento de un ciclo, deben inicializarse de forma correcta, po rejemplo si se van a multiplicar se debe evitar inicializarlos en 0."
      ],
      "metadata": {
        "nteract": {
          "transient": {
            "deleting": false
          }
        }
      }
    },
    {
      "cell_type": "markdown",
      "source": [
        "## <center>Contador</center>\n",
        "\n",
        "Es una variable cuyo valor se incrementa o decrementa en una cantidad constante cada vez que se produce un determinado suceso o acción en cada repetición.\n",
        "\n",
        "Representación en Python:\n",
        "```\n",
        "<nombreContador> = <nombreContador> + <valorConstante>\n",
        "```\n",
        "\n",
        "Ejemplo:\n",
        "```\n",
        "votos = votos + 1\n",
        "```"
      ],
      "metadata": {
        "nteract": {
          "transient": {
            "deleting": false
          }
        }
      }
    },
    {
      "cell_type": "markdown",
      "source": [
        "## <center>Acumulador</center>\n",
        "\n",
        "Variable que almacena cantidades resultantes de operaciones sucesivas. Realiza la misma función que un contador con la diferencia de que el incremento o decremento es variable en lugar de constante.\n",
        "\n",
        "\n",
        "Representación en Python:\n",
        "```\n",
        "<nombreAcumulador> = <nombreAcumulador> + <valorVariable>\n",
        "```\n",
        "\n",
        "Ejemplo:\n",
        "```\n",
        "puntos = puntos + 17\n",
        "puntos = puntos + 33\n",
        "```"
      ],
      "metadata": {
        "nteract": {
          "transient": {
            "deleting": false
          }
        }
      }
    },
    {
      "cell_type": "markdown",
      "source": [
        "## <center>Bandera</center>\n",
        "\n",
        "Es una variable que puede tomar sólo dos valores: verdadero (True o distinto a 0) o falso (False o igual a 0) a lo largo de la ejecución del programa."
      ],
      "metadata": {
        "nteract": {
          "transient": {
            "deleting": false
          }
        }
      }
    }
  ],
  "metadata": {
    "kernel_info": {
      "name": "venv"
    },
    "language_info": {
      "name": "python",
      "version": "3.7.3",
      "mimetype": "text/x-python",
      "codemirror_mode": {
        "name": "ipython",
        "version": 3
      },
      "pygments_lexer": "ipython3",
      "nbconvert_exporter": "python",
      "file_extension": ".py"
    },
    "kernelspec": {
      "argv": [
        "/home/fel/Documents/Profesor/nteract/venv/bin/python",
        "-m",
        "ipykernel_launcher",
        "-f",
        "{connection_file}"
      ],
      "display_name": "venv",
      "language": "python",
      "name": "venv"
    },
    "nteract": {
      "version": "0.25.1"
    }
  },
  "nbformat": 4,
  "nbformat_minor": 0
}