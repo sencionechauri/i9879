{
  "cells": [
    {
      "cell_type": "markdown",
      "source": [
        "# <center>Procedimientos Sin Argumentos</center>"
      ],
      "metadata": {
        "nteract": {
          "transient": {
            "deleting": false
          }
        }
      }
    },
    {
      "cell_type": "markdown",
      "source": [
        "En este cuaderno realizaremos distintos ejemplos de procedimientos que no usen argumentos.\n",
        "\n",
        "En este momento tal vez te preguntes ¿Qué son los argumentos?. Pues bien, los argumentos son valores que un procedimiento puede recibir entre paréntesis para trabajar con ellos, pero eso lo revisaremos más a fondo en otro cuaderno."
      ],
      "metadata": {
        "nteract": {
          "transient": {
            "deleting": false
          }
        }
      }
    },
    {
      "cell_type": "markdown",
      "source": [
        "Comencemos por un ejemplo bastante sencillo en el cual hagamos un procedimiento que imprima un saludo en pantalla."
      ],
      "metadata": {
        "nteract": {
          "transient": {
            "deleting": false
          }
        }
      }
    },
    {
      "cell_type": "code",
      "source": [
        "'''\n",
        "script en Python que imprima un saludo en pantalla haciendo uso de un procedimiento.\n",
        "'''\n",
        "\n",
        "#Definimos un procedimiento con el nombre saludo\n",
        "def saludo():\n",
        "    #El procedimiento solo imprime una línea en pantalla\n",
        "    print('Hola mundo en cuarentena :V')\n",
        "\n",
        "#llamado al procedimiento\n",
        "saludo()"
      ],
      "outputs": [],
      "execution_count": null,
      "metadata": {
        "collapsed": true,
        "jupyter": {
          "source_hidden": false,
          "outputs_hidden": false
        },
        "nteract": {
          "transient": {
            "deleting": false
          }
        },
        "execution": {
          "iopub.status.busy": "2020-10-22T21:25:29.776Z",
          "iopub.execute_input": "2020-10-22T21:25:29.804Z",
          "iopub.status.idle": "2020-10-22T21:25:29.925Z",
          "shell.execute_reply": "2020-10-22T21:25:29.975Z"
        }
      }
    },
    {
      "cell_type": "code",
      "source": [
        "'''Podemos hacer uso de nuestro procedimiento cuantas veces lo necesitemos\n",
        "y en cualquier parte del script siempre y cuando ya haya sido definido.\n",
        "'''\n",
        "saludo()"
      ],
      "outputs": [],
      "execution_count": null,
      "metadata": {
        "collapsed": true,
        "jupyter": {
          "source_hidden": false,
          "outputs_hidden": false
        },
        "nteract": {
          "transient": {
            "deleting": false
          }
        },
        "execution": {
          "iopub.status.busy": "2020-10-22T21:26:50.043Z",
          "iopub.execute_input": "2020-10-22T21:26:50.073Z",
          "iopub.status.idle": "2020-10-22T21:26:50.167Z",
          "shell.execute_reply": "2020-10-22T21:26:50.209Z"
        }
      }
    },
    {
      "cell_type": "markdown",
      "source": [
        "En el siguiente ejemplo crearemos un procedimiento dentro del cual se solicite el nombre del usuario y se imprima un saludo personalizado."
      ],
      "metadata": {
        "nteract": {
          "transient": {
            "deleting": false
          }
        }
      }
    },
    {
      "cell_type": "code",
      "source": [
        "'''\n",
        "script en Python que por medio de un procedimiento solicite el nombre el\n",
        "nombre del usuario y lo salude de manera personalizada.\n",
        "'''\n",
        "\n",
        "#Creamos el procedimiento\n",
        "def saludo_personalizado():\n",
        "    nombre = input('¿Cómo te llamas? ')\n",
        "    print(f'Hola {nombre}, gusto de saludarte... de lejitos')\n",
        "\n",
        "#utilizamos el procedimiento creado.\n",
        "saludo_personalizado()\n",
        "#Un segundo llamado al procedimiento\n",
        "saludo_personalizado()"
      ],
      "outputs": [],
      "execution_count": null,
      "metadata": {
        "collapsed": true,
        "jupyter": {
          "source_hidden": false,
          "outputs_hidden": false
        },
        "nteract": {
          "transient": {
            "deleting": false
          }
        },
        "execution": {
          "iopub.status.busy": "2020-10-22T22:03:05.240Z",
          "iopub.execute_input": "2020-10-22T22:03:05.266Z",
          "iopub.status.idle": "2020-10-22T22:03:14.902Z",
          "shell.execute_reply": "2020-10-22T22:03:14.954Z"
        }
      }
    },
    {
      "cell_type": "markdown",
      "source": [
        "A continuación realizaremos un script en el cual se declare un procedimiento que solicite el nombre y la edad del usuario y haciendo uso de una estructura selectiva doble le indique si ya es mayor de edad o aún no."
      ],
      "metadata": {
        "nteract": {
          "transient": {
            "deleting": false
          }
        }
      }
    },
    {
      "cell_type": "code",
      "source": [
        "'''\n",
        "script en Python que dentro de un procedimiento solicite el nombre y la\n",
        "edad del usuario y en caso de ser mayor o igual que 18 le indique que es\n",
        "mayor de edad, en caso contrario indicarle que aún es menor.\n",
        "'''\n",
        "\n",
        "def mayoria_edad():\n",
        "    nombre = input('¿Cómo te llamas? ')\n",
        "    edad = int(input('¿Cuántos años tienes? '))\n",
        "    if edad >= 18:\n",
        "        print(f'{nombre}, ya eres mayor de edad')\n",
        "    else:\n",
        "        print(f'{nombre}, aún eres menor')\n",
        "\n",
        "mayoria_edad()"
      ],
      "outputs": [],
      "execution_count": null,
      "metadata": {
        "collapsed": true,
        "jupyter": {
          "source_hidden": false,
          "outputs_hidden": false
        },
        "nteract": {
          "transient": {
            "deleting": false
          }
        },
        "execution": {
          "iopub.status.busy": "2020-10-22T22:06:39.333Z",
          "iopub.execute_input": "2020-10-22T22:06:39.368Z",
          "iopub.status.idle": "2020-10-22T22:06:50.681Z",
          "shell.execute_reply": "2020-10-22T22:06:50.749Z"
        }
      }
    },
    {
      "cell_type": "markdown",
      "source": [
        "Como siguiente ejemplo calcularemos el área de un triángulo dentro de un procedimiento en el cual se solicitarán los datos e imprimirá el resultado."
      ],
      "metadata": {
        "nteract": {
          "transient": {
            "deleting": false
          }
        }
      }
    },
    {
      "cell_type": "code",
      "source": [
        "'''\n",
        "script en Python que implemente un método para calcular e imprimir el\n",
        "área de un triángulo. Dentro del procedimiento se solicitarán los datos\n",
        "correspondientes a la base y altura.\n",
        "'''\n",
        "\n",
        "def area_triangulo():\n",
        "    base = float(input('Base: '))\n",
        "    altura = float(input('Altura: '))\n",
        "    area = base*altura/2\n",
        "\n",
        "    print(f'Area = {area}')\n",
        "\n",
        "area_triangulo()"
      ],
      "outputs": [],
      "execution_count": null,
      "metadata": {
        "collapsed": true,
        "jupyter": {
          "source_hidden": false,
          "outputs_hidden": false
        },
        "nteract": {
          "transient": {
            "deleting": false
          }
        },
        "execution": {
          "iopub.status.busy": "2020-10-22T22:11:03.375Z",
          "iopub.execute_input": "2020-10-22T22:11:03.399Z",
          "iopub.status.idle": "2020-10-22T22:11:08.690Z",
          "shell.execute_reply": "2020-10-22T22:11:08.756Z"
        }
      }
    },
    {
      "cell_type": "markdown",
      "source": [
        "Un uso que le podríamos dar a un procedimiento es el de imprimir un menú, de manera tal que nuestro ciclo principal del programa se vea más limpio y podamos separar todo el programa en pequeñas tareas."
      ],
      "metadata": {
        "nteract": {
          "transient": {
            "deleting": false
          }
        }
      }
    },
    {
      "cell_type": "code",
      "source": [
        "'''\n",
        "script en Python que muestre un menú cíclico y que la impresión del\n",
        "menú sea implementada como un procedimiento.\n",
        "'''\n",
        "\n",
        "#constantes para el menú\n",
        "CIRCULO = 1\n",
        "TRIANGULO = 2\n",
        "CUADRADO = 3\n",
        "RECTANGULO = 4\n",
        "SALIR = 0\n",
        "\n",
        "def menu():\n",
        "    print(f'''                       Áreas de Figuras\n",
        "{CIRCULO}) Círculo\n",
        "{TRIANGULO}) Triángulo\n",
        "{CUADRADO}) Cuadrado\n",
        "{RECTANGULO}) Rectángulo\n",
        "{SALIR}) Salir\n",
        "    ''')\n",
        "\n",
        "continuar = True\n",
        "\n",
        "while continuar:\n",
        "    menu()\n",
        "    opcion = int(input('Selecciona una opción: '))\n",
        "    if opcion == CIRCULO:\n",
        "        print('                     Área de un círculo')\n",
        "    elif opcion == TRIANGULO:\n",
        "        print('                     Área de un triángulo')\n",
        "    elif opcion == CUADRADO:\n",
        "        print('                     Área de un cuadrado')\n",
        "    elif opcion == RECTANGULO:\n",
        "        print('                     Área de un rectángulo')\n",
        "    elif opcion == SALIR:\n",
        "        continuar = False\n",
        "    else:\n",
        "        print('Opción no válida')\n",
        "    input('presiona enter para continuar...')"
      ],
      "outputs": [],
      "execution_count": null,
      "metadata": {
        "collapsed": true,
        "jupyter": {
          "source_hidden": false,
          "outputs_hidden": false
        },
        "nteract": {
          "transient": {
            "deleting": false
          }
        },
        "execution": {
          "iopub.status.busy": "2020-10-22T22:20:24.624Z",
          "iopub.execute_input": "2020-10-22T22:20:24.665Z",
          "iopub.status.idle": "2020-10-22T22:20:55.038Z",
          "shell.execute_reply": "2020-10-22T22:20:54.986Z"
        }
      }
    },
    {
      "cell_type": "markdown",
      "source": [
        "Aquí tienes el <a href=\"https://drive.google.com/file/d/1Y_N_kNBffyoeDpOaU9s_DWvi8rH7ar7b/view?usp=sharing\">enlace </a> con los scripts correspondientes a este cuaderno. Puede abrirlos en tu editor y tratar de correrlos ahí también."
      ],
      "metadata": {
        "nteract": {
          "transient": {
            "deleting": false
          }
        }
      }
    }
  ],
  "metadata": {
    "kernel_info": {
      "name": "venv"
    },
    "language_info": {
      "name": "python",
      "version": "3.7.3",
      "mimetype": "text/x-python",
      "codemirror_mode": {
        "name": "ipython",
        "version": 3
      },
      "pygments_lexer": "ipython3",
      "nbconvert_exporter": "python",
      "file_extension": ".py"
    },
    "kernelspec": {
      "argv": [
        "/home/fel/Documents/Profesor/nteract/venv/bin/python",
        "-m",
        "ipykernel_launcher",
        "-f",
        "{connection_file}"
      ],
      "display_name": "venv",
      "language": "python",
      "name": "venv"
    },
    "nteract": {
      "version": "0.25.1"
    }
  },
  "nbformat": 4,
  "nbformat_minor": 0
}