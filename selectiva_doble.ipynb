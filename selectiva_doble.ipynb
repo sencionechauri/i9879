{
  "cells": [
    {
      "cell_type": "markdown",
      "source": [
        "# <center>Estructura Selectiva Doble (if-else)</center>"
      ],
      "metadata": {
        "nteract": {
          "transient": {
            "deleting": false
          }
        }
      }
    },
    {
      "cell_type": "markdown",
      "source": [
        "La estructura selectiva doble nos ofrece un mecanismo para establecer una alternativa a una condición. Hasta este momento hemos visto como evaluar una condición y a partir de ella nuestro programa podía tomar una decisión; sin embargo estabamos limitados en cierto sentido porque sólo podíamos ejecutar instrucciones en caso que la condición se cumpliera; ahora con la estructura selectiva doble nuestro programa podrá responder también cuando la condición sea falsa."
      ],
      "metadata": {
        "nteract": {
          "transient": {
            "deleting": false
          }
        }
      }
    },
    {
      "cell_type": "markdown",
      "source": [
        "La estructura selectiva doble ejecuta determinada acción cuando se cumple una condición establecida. La selección si entonces, sino (if - else) evalúa la condición y:\n",
        "\n",
        "* Si es verdadera ejecuta la acción.\n",
        "* Si la condición es falsa entonces ejecuta una acción alternativa."
      ],
      "metadata": {
        "nteract": {
          "transient": {
            "deleting": false
          }
        }
      }
    },
    {
      "cell_type": "markdown",
      "source": [
        "## <center>Patrón</center>\n",
        "\n",
        "```\n",
        "if <condición>:\n",
        "    <instrucciones>\n",
        "else:\n",
        "    <instrucciones alternativas>\n",
        "```\n",
        "\n"
      ],
      "metadata": {
        "nteract": {
          "transient": {
            "deleting": false
          }
        }
      }
    },
    {
      "cell_type": "markdown",
      "source": [
        "## <center>Ejemplos</center>"
      ],
      "metadata": {
        "nteract": {
          "transient": {
            "deleting": false
          }
        }
      }
    },
    {
      "cell_type": "code",
      "source": [
        "'''\n",
        "script en Python que solicita el nombre y la edad del usuario en caso que la edad sea mayor o igual a 18\n",
        "indicarle que es mayor de edad; en caso contrario indicarle que aún es menor.\n",
        "'''\n",
        "\n",
        "nombre = input('¿Cómo te llamas? ')\n",
        "edad = int(input('¿Cuántos años tienes? '))\n",
        "\n",
        "if edad >= 18:\n",
        "    print(f'Ya eres mayor de edad {nombre}')\n",
        "else:\n",
        "    print('Aún eres muy joven')"
      ],
      "outputs": [],
      "execution_count": null,
      "metadata": {
        "collapsed": true,
        "jupyter": {
          "source_hidden": false,
          "outputs_hidden": false
        },
        "nteract": {
          "transient": {
            "deleting": false
          }
        },
        "execution": {
          "iopub.status.busy": "2020-10-01T22:19:56.939Z",
          "iopub.execute_input": "2020-10-01T22:19:56.962Z",
          "iopub.status.idle": "2020-10-01T22:33:26.841Z",
          "shell.execute_reply": "2020-10-01T22:33:27.023Z"
        }
      }
    },
    {
      "cell_type": "markdown",
      "source": [
        "Para el siguiente ejemplo juguemos un poco con números aleatorios. Si queremos generar un número aleatorio en Python debemos importar el módulo ```random```"
      ],
      "metadata": {
        "nteract": {
          "transient": {
            "deleting": false
          }
        }
      }
    },
    {
      "cell_type": "code",
      "source": [
        "'''\n",
        "script en Python que genere un número aleatorio entre el 1 y 10 y le pida al usuario que lo adivine. Si el\n",
        "usuario adivina el número lo felicita y en caso contrario le muestra el número que había generado.\n",
        "'''\n",
        "#Módulo que permite generar números aleatorios\n",
        "import random\n",
        "\n",
        "secreto = random.randint(1, 10)\n",
        "print('Acabo de generar un número secreto entre 1 y 10 y quiero que intentes adivinarlo')\n",
        "numero_usuario = int(input('¿Cuál crees que sea mi número? '))\n",
        "\n",
        "if numero_usuario == secreto:\n",
        "    print('Felicidades! puntos extra')\n",
        "else:\n",
        "    print(f'Pelas! mi número es {secreto}')"
      ],
      "outputs": [],
      "execution_count": null,
      "metadata": {
        "collapsed": true,
        "jupyter": {
          "source_hidden": false,
          "outputs_hidden": false
        },
        "nteract": {
          "transient": {
            "deleting": false
          }
        },
        "execution": {
          "iopub.status.busy": "2020-10-01T22:33:26.890Z",
          "iopub.execute_input": "2020-10-01T22:33:26.926Z",
          "iopub.status.idle": "2020-10-01T22:33:36.573Z",
          "shell.execute_reply": "2020-10-01T22:33:36.686Z"
        }
      }
    },
    {
      "cell_type": "markdown",
      "source": [
        "Otro uso que podemos darle a una estructura selectiva doble es validar los datos de ingreso de un usuario a alguna plataforma. En este caso queremos verificar si tanto el usuario como la contraseña proporcionados coinciden con los almacenados previamente. "
      ],
      "metadata": {
        "nteract": {
          "transient": {
            "deleting": false
          }
        }
      }
    },
    {
      "cell_type": "code",
      "source": [
        "'''\n",
        "script en Python que solicite las credenciales de un usuario de una plataforma digital. Si tanto el usuario\n",
        "como la contraseña coinciden con los previamente almacenados entonces darle la bienvenida a su cuenta; en\n",
        "caso contrario indicarle que los datos son incorrectos.\n",
        "'''\n",
        "#constantes para los datos del usuario\n",
        "USER = 'usuario'\n",
        "PASS = '1234'\n",
        "\n",
        "print('                     Insta 📷')\n",
        "user = input('Usuario: ')\n",
        "password = input('Contraseña: ')\n",
        "\n",
        "if user == USER and password == PASS:\n",
        "    print('Bienvenid@ a tu cuenta')\n",
        "else:\n",
        "    print('usuario/contraseña incorrectos')"
      ],
      "outputs": [],
      "execution_count": null,
      "metadata": {
        "collapsed": true,
        "jupyter": {
          "source_hidden": false,
          "outputs_hidden": false
        },
        "nteract": {
          "transient": {
            "deleting": false
          }
        },
        "execution": {
          "iopub.status.busy": "2020-10-01T22:41:28.840Z",
          "iopub.execute_input": "2020-10-01T22:41:28.870Z",
          "iopub.status.idle": "2020-10-01T22:33:54.447Z",
          "shell.execute_reply": "2020-10-01T22:33:54.502Z"
        }
      }
    },
    {
      "cell_type": "markdown",
      "source": [
        "Ahora practiquemos un poco con la estructura selectiva doble. Completa el código faltante según la descripción dada."
      ],
      "metadata": {
        "nteract": {
          "transient": {
            "deleting": false
          }
        }
      }
    },
    {
      "cell_type": "code",
      "source": [
        "'''\n",
        "script en Python que simule la opción de retirar dinero de un cajero automático. El programa deberá tener una\n",
        "constante que guarde el nip del usuario y una variable que tenga como valor inicial el saldo del usuario.\n",
        "\n",
        "Como primer paso se le solicitará el nip al usuario y si coincide con el valor almacenado en la constante se le\n",
        "dará la bienvenida a su cuenta, se le mostrará su saldo actual y  se le preguntará cuánto desea retirar; en caso\n",
        "contrario se le indicará que hubo un error con la autenticación. Si se validó su ingreso y la cantidad a\n",
        "retirar solicitada es menor o igual a su saldo, se le indicará que el retiro fue exitoso sino, se le indicará\n",
        "que el saldo es insuficiente.\n",
        "'''\n",
        "\n",
        "NIP = #Completa aquí#\n",
        "saldo = #Completa aquí#\n",
        "\n",
        "nip_usuario = int(input('Introduce tu NIP: '))\n",
        "\n",
        "if #Completa aquí# :\n",
        "    print('Te doy la bienvenida a tu cuenta')\n",
        "    print(f'Tu saldo es {#Completa aquí#}')\n",
        "    retiro = #Completa aquí#\n",
        "    if #Completa aquí# :\n",
        "        print('Retiro exitoso. No olvides retirar tu tarjeta.')\n",
        "    else:\n",
        "        #Completa aquí#\n",
        "else:\n",
        "    #Completa aquí#"
      ],
      "outputs": [],
      "execution_count": null,
      "metadata": {
        "collapsed": true,
        "jupyter": {
          "source_hidden": false,
          "outputs_hidden": false
        },
        "nteract": {
          "transient": {
            "deleting": false
          }
        },
        "execution": {
          "iopub.status.busy": "2020-09-25T04:42:07.139Z",
          "iopub.execute_input": "2020-09-25T04:42:07.164Z",
          "iopub.status.idle": "2020-09-25T04:42:12.638Z",
          "shell.execute_reply": "2020-09-25T04:42:12.675Z"
        }
      }
    },
    {
      "cell_type": "markdown",
      "source": [
        "En el siguiente <a href=\"https://drive.google.com/file/d/1kBEo1d37vsoZ0NoNRDQfyAhJVe-0H0w7/view?usp=sharing\">enlace </a> encontrarás los scripts correspondientes a este cuaderno. Puedes abrirlos en tu editor y tratar de correrlos ahí también."
      ],
      "metadata": {
        "nteract": {
          "transient": {
            "deleting": false
          }
        }
      }
    }
  ],
  "metadata": {
    "kernel_info": {
      "name": "venv"
    },
    "language_info": {
      "name": "python",
      "version": "3.7.3",
      "mimetype": "text/x-python",
      "codemirror_mode": {
        "name": "ipython",
        "version": 3
      },
      "pygments_lexer": "ipython3",
      "nbconvert_exporter": "python",
      "file_extension": ".py"
    },
    "kernelspec": {
      "argv": [
        "/home/fel/Documents/Profesor/nteract/venv/bin/python",
        "-m",
        "ipykernel_launcher",
        "-f",
        "{connection_file}"
      ],
      "display_name": "venv",
      "language": "python",
      "name": "venv"
    },
    "nteract": {
      "version": "0.25.1"
    }
  },
  "nbformat": 4,
  "nbformat_minor": 0
}