{
  "cells": [
    {
      "cell_type": "markdown",
      "source": [
        "# <center>Procedimientos</center>"
      ],
      "metadata": {
        "nteract": {
          "transient": {
            "deleting": false
          }
        }
      }
    },
    {
      "cell_type": "markdown",
      "source": [
        "Los procedimientos son el medio a través del cual podemos reutilizar código sin necesidad de tener que escribirlo una y otra vez.\n",
        "\n",
        "Un procedimiento encapsula un conjunto de instrucciones y les asocia un nombre o identificador de forma tal que podamos utilizarlo en cualquier momento.\n",
        "\n",
        "Puedes imaginarlo como si utilizaras el nombre de una variable, pero ahora lo que sucederá es que se realizará todo un conjunto de instrucciones."
      ],
      "metadata": {
        "nteract": {
          "transient": {
            "deleting": false
          }
        }
      }
    },
    {
      "cell_type": "markdown",
      "source": [
        "## <center>Patrón</center>\n",
        "\n",
        "```\n",
        "def <identificador> (<argumentos>):\n",
        "    instrucciones\n",
        "```"
      ],
      "metadata": {
        "nteract": {
          "transient": {
            "deleting": false
          }
        }
      }
    },
    {
      "cell_type": "markdown",
      "source": [
        "Para crear un procedimiento se utiliza la palabra reservada ```def``` seguida del nombre que se desea asignar al procedimiento, ambos separados por un espacio y posteriormente entre paréntesis una serie de argumentos con los cuales podrá trabajar el procedimiento, finalmente después de los paréntesis se colocan dos puntos **:** para indicar que se comenzará con la definición del procedimiento."
      ],
      "metadata": {
        "nteract": {
          "transient": {
            "deleting": false
          }
        }
      }
    },
    {
      "cell_type": "markdown",
      "source": [
        "Un procedimiento puede utilizarse las veces que sea necesario e incluso dentro de un procedimiento puede haber llamados a otros procedimientos."
      ],
      "metadata": {
        "nteract": {
          "transient": {
            "deleting": false
          }
        }
      }
    }
  ],
  "metadata": {
    "kernel_info": {
      "name": "venv"
    },
    "language_info": {
      "name": "python",
      "version": "3.7.3",
      "mimetype": "text/x-python",
      "codemirror_mode": {
        "name": "ipython",
        "version": 3
      },
      "pygments_lexer": "ipython3",
      "nbconvert_exporter": "python",
      "file_extension": ".py"
    },
    "kernelspec": {
      "argv": [
        "/home/fel/Documents/Profesor/nteract/venv/bin/python",
        "-m",
        "ipykernel_launcher",
        "-f",
        "{connection_file}"
      ],
      "display_name": "venv",
      "language": "python",
      "name": "venv"
    },
    "nteract": {
      "version": "0.25.1"
    }
  },
  "nbformat": 4,
  "nbformat_minor": 0
}