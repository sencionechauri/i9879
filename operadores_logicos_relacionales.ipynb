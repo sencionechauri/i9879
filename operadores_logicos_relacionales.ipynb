{
  "cells": [
    {
      "cell_type": "markdown",
      "source": [
        "# <center>Operadores Lógicos y Operadores Relacionales</center>"
      ],
      "metadata": {
        "nteract": {
          "transient": {
            "deleting": false
          }
        }
      }
    },
    {
      "cell_type": "markdown",
      "source": [
        "## <center>Operadores Lógicos</center>\n",
        "\n",
        "Los operadores lógicos nos permiten hacer evaluaciones para valores lógicos de verdad o *booleanos* ya sea verdadero (**True** en Python) o falso (**False** en Python) y son la base para toda instrucción que requiera evaluar condiciones en los lenguajes de programación."
      ],
      "metadata": {
        "nteract": {
          "transient": {
            "deleting": false
          }
        }
      }
    },
    {
      "cell_type": "markdown",
      "source": [
        "Los operadores lógicos en Python son:\n",
        "\n",
        "* and\n",
        "* or\n",
        "* not\n",
        "\n",
        "Los operadores **and** y **or** son binarios mientras que el operador **not** es unario, es decir, solo toma un argumento o solo afecta un argumento."
      ],
      "metadata": {
        "nteract": {
          "transient": {
            "deleting": false
          }
        }
      }
    },
    {
      "cell_type": "markdown",
      "source": [
        "## <center>Tabla Lógica de Verdad</center>\n",
        "\n",
        "A continuación se muestra la tabla lógica de verdad para dos variables **A** y **B**, dicha tabla indica el resultado para las posibles combinaciones de entradas.\n",
        "\n",
        "A | B | A and B | A or B | not A\n",
        "--- | --- | --- | --- | ---\n",
        "True | True | True | True | False\n",
        "True | False | False | True | False\n",
        "False | True | False | True | True\n",
        "False | False | False | False | True"
      ],
      "metadata": {
        "nteract": {
          "transient": {
            "deleting": false
          }
        }
      }
    },
    {
      "cell_type": "markdown",
      "source": [
        "## <center>Ejemplos</center>"
      ],
      "metadata": {
        "nteract": {
          "transient": {
            "deleting": false
          }
        }
      }
    },
    {
      "cell_type": "markdown",
      "source": [
        "### <center>and</center>"
      ],
      "metadata": {
        "nteract": {
          "transient": {
            "deleting": false
          }
        }
      }
    },
    {
      "cell_type": "code",
      "source": [
        "print(f'True and True = {True and True}')\n",
        "print(f'True and False = {True and False}')\n",
        "print(f'False and True = {False and True}')\n",
        "print(f'False and False = {False and False}')"
      ],
      "outputs": [],
      "execution_count": null,
      "metadata": {
        "collapsed": true,
        "jupyter": {
          "source_hidden": false,
          "outputs_hidden": false
        },
        "nteract": {
          "transient": {
            "deleting": false
          }
        },
        "execution": {
          "iopub.status.busy": "2020-09-25T01:11:16.836Z",
          "iopub.execute_input": "2020-09-25T01:11:16.854Z",
          "iopub.status.idle": "2020-09-25T01:11:16.905Z",
          "shell.execute_reply": "2020-09-25T01:11:16.932Z"
        }
      }
    },
    {
      "cell_type": "code",
      "source": [
        "#Utilizando variables con valores booleanos\n",
        "estudiar_robotica = True\n",
        "aprender_python = True\n",
        "exito = estudiar_robotica and aprender_python\n",
        "\n",
        "print(f'¿Tendré éxito si estudio Robótica y aprendo Python? {exito}')"
      ],
      "outputs": [],
      "execution_count": null,
      "metadata": {
        "collapsed": true,
        "jupyter": {
          "source_hidden": false,
          "outputs_hidden": false
        },
        "nteract": {
          "transient": {
            "deleting": false
          }
        },
        "execution": {
          "iopub.status.busy": "2020-09-25T02:26:38.959Z",
          "iopub.execute_input": "2020-09-25T02:26:39.005Z",
          "iopub.status.idle": "2020-09-25T02:26:39.126Z",
          "shell.execute_reply": "2020-09-25T02:26:39.172Z"
        }
      }
    },
    {
      "cell_type": "code",
      "source": [
        "#Se pueden encadenar operaciones and y se evalúan de izquierda a derecha.\n",
        "\n",
        "True and True and False and True"
      ],
      "outputs": [],
      "execution_count": null,
      "metadata": {
        "collapsed": true,
        "jupyter": {
          "source_hidden": false,
          "outputs_hidden": false
        },
        "nteract": {
          "transient": {
            "deleting": false
          }
        },
        "execution": {
          "iopub.status.busy": "2020-09-25T03:03:02.008Z",
          "iopub.execute_input": "2020-09-25T03:03:02.069Z",
          "iopub.status.idle": "2020-09-25T03:03:03.695Z",
          "shell.execute_reply": "2020-09-25T03:03:03.762Z"
        }
      }
    },
    {
      "cell_type": "markdown",
      "source": [
        "### <center>or</center>"
      ],
      "metadata": {
        "nteract": {
          "transient": {
            "deleting": false
          }
        }
      }
    },
    {
      "cell_type": "code",
      "source": [
        "print(f'True or True = {True or True}')\n",
        "print(f'True or False = {True or False}')\n",
        "print(f'False or True = {False or True}')\n",
        "print(f'False or False = {False or False}')"
      ],
      "outputs": [],
      "execution_count": null,
      "metadata": {
        "collapsed": true,
        "jupyter": {
          "source_hidden": false,
          "outputs_hidden": false
        },
        "nteract": {
          "transient": {
            "deleting": false
          }
        },
        "execution": {
          "iopub.status.busy": "2020-09-25T01:23:16.901Z",
          "iopub.execute_input": "2020-09-25T01:23:16.931Z",
          "iopub.status.idle": "2020-09-25T01:23:17.004Z",
          "shell.execute_reply": "2020-09-25T01:23:17.037Z"
        }
      }
    },
    {
      "cell_type": "code",
      "source": [
        "#Utilizando variables con valores booleanos\n",
        "alarma_sonando = True\n",
        "desayuno_listo = False\n",
        "hora_de_despertar = alarma_sonando or desayuno_listo\n",
        "\n",
        "print(f'¿Es hora de despertar? {hora_de_despertar}')"
      ],
      "outputs": [],
      "execution_count": null,
      "metadata": {
        "collapsed": true,
        "jupyter": {
          "source_hidden": false,
          "outputs_hidden": false
        },
        "nteract": {
          "transient": {
            "deleting": false
          }
        },
        "execution": {
          "iopub.status.busy": "2020-09-25T03:03:20.948Z",
          "iopub.execute_input": "2020-09-25T03:03:20.993Z",
          "iopub.status.idle": "2020-09-25T03:03:21.098Z",
          "shell.execute_reply": "2020-09-25T03:03:21.155Z"
        }
      }
    },
    {
      "cell_type": "code",
      "source": [
        "#Se pueden encadenar operaciones or y se evalúan de izquierda a derecha.\n",
        "\n",
        "True or True or False or True"
      ],
      "outputs": [],
      "execution_count": null,
      "metadata": {
        "collapsed": true,
        "jupyter": {
          "source_hidden": false,
          "outputs_hidden": false
        },
        "nteract": {
          "transient": {
            "deleting": false
          }
        },
        "execution": {
          "iopub.status.busy": "2020-09-25T03:03:37.906Z",
          "iopub.execute_input": "2020-09-25T03:03:37.939Z",
          "iopub.status.idle": "2020-09-25T03:03:38.037Z",
          "shell.execute_reply": "2020-09-25T03:03:38.080Z"
        }
      }
    },
    {
      "cell_type": "markdown",
      "source": [
        "### <center>not</center>"
      ],
      "metadata": {
        "nteract": {
          "transient": {
            "deleting": false
          }
        }
      }
    },
    {
      "cell_type": "code",
      "source": [
        "print(f'not True = {not True}')\n",
        "print(f'not False = {not False}')"
      ],
      "outputs": [],
      "execution_count": null,
      "metadata": {
        "collapsed": true,
        "jupyter": {
          "source_hidden": false,
          "outputs_hidden": false
        },
        "nteract": {
          "transient": {
            "deleting": false
          }
        },
        "execution": {
          "iopub.status.busy": "2020-09-25T01:39:12.075Z",
          "iopub.execute_input": "2020-09-25T01:39:12.115Z",
          "iopub.status.idle": "2020-09-25T01:39:12.206Z",
          "shell.execute_reply": "2020-09-25T01:39:12.246Z"
        }
      }
    },
    {
      "cell_type": "code",
      "source": [
        "#Utilizando variables con valores booleanos\n",
        "llueve = False\n",
        "print(f'¿Está lloviendo? {llueve}')\n",
        "print('Oh han comenzado a caer gotas de lluvia :V')\n",
        "llueve = not llueve\n",
        "print(f'¿Está lloviendo? {llueve}')"
      ],
      "outputs": [],
      "execution_count": null,
      "metadata": {
        "collapsed": true,
        "jupyter": {
          "source_hidden": false,
          "outputs_hidden": false
        },
        "nteract": {
          "transient": {
            "deleting": false
          }
        },
        "execution": {
          "iopub.status.busy": "2020-09-25T03:04:21.777Z",
          "iopub.execute_input": "2020-09-25T03:04:21.816Z",
          "iopub.status.idle": "2020-09-25T03:04:22.151Z",
          "shell.execute_reply": "2020-09-25T03:04:22.189Z"
        }
      }
    },
    {
      "cell_type": "code",
      "source": [
        "#Se pueden encadenar operaciones not y se evalúan desde la más interna hacia la externa\n",
        "\n",
        "not not not False"
      ],
      "outputs": [],
      "execution_count": null,
      "metadata": {
        "collapsed": true,
        "jupyter": {
          "source_hidden": false,
          "outputs_hidden": false
        },
        "nteract": {
          "transient": {
            "deleting": false
          }
        },
        "execution": {
          "iopub.status.busy": "2020-09-25T03:05:00.292Z",
          "iopub.execute_input": "2020-09-25T03:05:00.336Z",
          "iopub.status.idle": "2020-09-25T03:05:00.439Z",
          "shell.execute_reply": "2020-09-25T03:05:00.490Z"
        }
      }
    },
    {
      "cell_type": "markdown",
      "source": [
        "## <center>Operadores Relacionales</center>\n",
        "\n",
        "Como su nombre lo indica los operadores relacionales establecen una relación de valor entre los operandos que reciben y su evaluación resulta en un valor lógico de verdad (*True* o *False*). A continuación se muestra una tabla con los operadores relacionales en Python.\n",
        "\n",
        "Operando | Nombre | Descripción\n",
        "--- | --- | ---\n",
        "< | Menor que | Evalúa si el operando a la izquierda del operador es menor que el operando a la derecha.\n",
        "> | Mayor que | Evalúa si el operando a la izquierda del operador es mayor que el operando a la derecha.\n",
        "<= | Menor o igual que | Evalúa si el operando a la izquierda del operador es menor o igual que el operando a la derecha.\n",
        ">= | Mayor o igual que | Evalúa si el operando a la izquierda del operador es mayor o igual que el operando a la derecha.\n",
        "== | Igual que | Evalúa si el operando a la izquierda del operador es igual que el operando a la derecha.\n",
        "!= | Distinto que | Evalúa si el operando a la izquierda del operador es distinto que el operando a la derecha.\n"
      ],
      "metadata": {
        "nteract": {
          "transient": {
            "deleting": false
          }
        }
      }
    },
    {
      "cell_type": "markdown",
      "source": [
        "En caso que los operandos sean cadenas de texto, la evaluación se realiza con base en el código ascii.\n",
        "\n",
        "<center><img src=\"media/ascii.jpg\" /><center>"
      ],
      "metadata": {
        "nteract": {
          "transient": {
            "deleting": false
          }
        }
      }
    },
    {
      "cell_type": "markdown",
      "source": [
        "## <center>Ejemplos</center>"
      ],
      "metadata": {
        "nteract": {
          "transient": {
            "deleting": false
          }
        }
      }
    },
    {
      "cell_type": "markdown",
      "source": [
        "### <center> < </center>"
      ],
      "metadata": {
        "nteract": {
          "transient": {
            "deleting": false
          }
        }
      }
    },
    {
      "cell_type": "code",
      "source": [
        "print(f'3 < 5 {3 < 5}')\n",
        "print(f'5 < 3 {5 < 3}')\n",
        "print(f'5 < 5 {5 < 5}')\n",
        "print(f'hola < mundo {\"hola\" < \"mundo\"}')\n"
      ],
      "outputs": [],
      "execution_count": null,
      "metadata": {
        "collapsed": true,
        "jupyter": {
          "source_hidden": false,
          "outputs_hidden": false
        },
        "nteract": {
          "transient": {
            "deleting": false
          }
        },
        "execution": {
          "iopub.status.busy": "2020-09-25T03:34:33.589Z",
          "iopub.execute_input": "2020-09-25T03:34:33.650Z",
          "iopub.status.idle": "2020-09-25T03:34:33.773Z",
          "shell.execute_reply": "2020-09-25T03:34:33.827Z"
        }
      }
    },
    {
      "cell_type": "code",
      "source": [
        "#Utilizando variables\n",
        "n1 = 33\n",
        "n2 = 55\n",
        "resultado = n1 < n2\n",
        "print(f'{n1} < {n2} {resultado}')"
      ],
      "outputs": [],
      "execution_count": null,
      "metadata": {
        "collapsed": true,
        "jupyter": {
          "source_hidden": false,
          "outputs_hidden": false
        },
        "nteract": {
          "transient": {
            "deleting": false
          }
        },
        "execution": {
          "iopub.status.busy": "2020-09-25T03:41:54.311Z",
          "iopub.execute_input": "2020-09-25T03:41:54.360Z",
          "iopub.status.idle": "2020-09-25T03:41:54.474Z",
          "shell.execute_reply": "2020-09-25T03:41:54.525Z"
        }
      }
    },
    {
      "cell_type": "code",
      "source": [
        "#Se pueden encadenar operaciones < y se evalúan desde la más interna hacia la externa\n",
        "\n",
        "3 < 5 < 7"
      ],
      "outputs": [],
      "execution_count": null,
      "metadata": {
        "collapsed": true,
        "jupyter": {
          "source_hidden": false,
          "outputs_hidden": false
        },
        "nteract": {
          "transient": {
            "deleting": false
          }
        },
        "execution": {
          "iopub.status.busy": "2020-09-25T03:45:25.081Z",
          "iopub.execute_input": "2020-09-25T03:45:25.142Z",
          "iopub.status.idle": "2020-09-25T03:45:25.282Z",
          "shell.execute_reply": "2020-09-25T03:45:25.330Z"
        }
      }
    },
    {
      "cell_type": "markdown",
      "source": [
        "### <center> > </center>"
      ],
      "metadata": {
        "nteract": {
          "transient": {
            "deleting": false
          }
        }
      }
    },
    {
      "cell_type": "code",
      "source": [
        "print(f'3 > 5 {3 > 5}')\n",
        "print(f'5 > 3 {5 > 3}')\n",
        "print(f'5 > 5 {5 > 5}')\n",
        "print(f'hola > mundo {\"hola\" > \"mundo\"}')\n"
      ],
      "outputs": [],
      "execution_count": null,
      "metadata": {
        "collapsed": true,
        "jupyter": {
          "source_hidden": false,
          "outputs_hidden": false
        },
        "nteract": {
          "transient": {
            "deleting": false
          }
        },
        "execution": {
          "iopub.status.busy": "2020-09-25T03:47:44.405Z",
          "iopub.execute_input": "2020-09-25T03:47:44.473Z",
          "iopub.status.idle": "2020-09-25T03:47:44.839Z",
          "shell.execute_reply": "2020-09-25T03:47:44.907Z"
        }
      }
    },
    {
      "cell_type": "code",
      "source": [
        "#Utilizando variables\n",
        "n1 = 33\n",
        "n2 = 55\n",
        "resultado = n1 > n2\n",
        "print(f'{n1} > {n2} {resultado}')"
      ],
      "outputs": [],
      "execution_count": null,
      "metadata": {
        "collapsed": true,
        "jupyter": {
          "source_hidden": false,
          "outputs_hidden": false
        },
        "nteract": {
          "transient": {
            "deleting": false
          }
        },
        "execution": {
          "iopub.status.busy": "2020-09-25T03:47:57.638Z",
          "iopub.execute_input": "2020-09-25T03:47:57.705Z",
          "iopub.status.idle": "2020-09-25T03:47:57.848Z",
          "shell.execute_reply": "2020-09-25T03:47:57.901Z"
        }
      }
    },
    {
      "cell_type": "code",
      "source": [
        "#Se pueden encadenar operaciones > y se evalúan desde la más interna hacia la externa\n",
        "\n",
        "7 > 5 > 3"
      ],
      "outputs": [],
      "execution_count": null,
      "metadata": {
        "collapsed": true,
        "jupyter": {
          "source_hidden": false,
          "outputs_hidden": false
        },
        "nteract": {
          "transient": {
            "deleting": false
          }
        },
        "execution": {
          "iopub.status.busy": "2020-09-25T03:48:28.504Z",
          "iopub.execute_input": "2020-09-25T03:48:28.558Z",
          "iopub.status.idle": "2020-09-25T03:48:28.676Z",
          "shell.execute_reply": "2020-09-25T03:48:28.723Z"
        }
      }
    },
    {
      "cell_type": "markdown",
      "source": [
        "### <center> <= </center>"
      ],
      "metadata": {
        "nteract": {
          "transient": {
            "deleting": false
          }
        }
      }
    },
    {
      "cell_type": "code",
      "source": [
        "print(f'3 <= 5 {3 <= 5}')\n",
        "print(f'5 <= 3 {5 <= 3}')\n",
        "print(f'5 <= 5 {5 <= 5}')\n",
        "print(f'hola <= mundo {\"hola\" <= \"mundo\"}')\n"
      ],
      "outputs": [],
      "execution_count": null,
      "metadata": {
        "collapsed": true,
        "jupyter": {
          "source_hidden": false,
          "outputs_hidden": false
        },
        "nteract": {
          "transient": {
            "deleting": false
          }
        },
        "execution": {
          "iopub.status.busy": "2020-09-25T03:50:11.479Z",
          "iopub.execute_input": "2020-09-25T03:50:11.544Z",
          "iopub.status.idle": "2020-09-25T03:50:11.665Z",
          "shell.execute_reply": "2020-09-25T03:50:11.726Z"
        }
      }
    },
    {
      "cell_type": "code",
      "source": [
        "#Utilizando variables\n",
        "n1 = 33\n",
        "n2 = 55\n",
        "resultado = n1 <= n2\n",
        "print(f'{n1} <= {n2} {resultado}')"
      ],
      "outputs": [],
      "execution_count": null,
      "metadata": {
        "collapsed": true,
        "jupyter": {
          "source_hidden": false,
          "outputs_hidden": false
        },
        "nteract": {
          "transient": {
            "deleting": false
          }
        },
        "execution": {
          "iopub.status.busy": "2020-09-25T03:50:29.211Z",
          "iopub.execute_input": "2020-09-25T03:50:29.289Z",
          "iopub.status.idle": "2020-09-25T03:50:29.521Z",
          "shell.execute_reply": "2020-09-25T03:50:29.592Z"
        }
      }
    },
    {
      "cell_type": "code",
      "source": [
        "#Se pueden encadenar operaciones <= y se evalúan desde la más interna hacia la externa\n",
        "\n",
        "3 <= 5 <= 7"
      ],
      "outputs": [],
      "execution_count": null,
      "metadata": {
        "collapsed": true,
        "jupyter": {
          "source_hidden": false,
          "outputs_hidden": false
        },
        "nteract": {
          "transient": {
            "deleting": false
          }
        },
        "execution": {
          "iopub.status.busy": "2020-09-25T03:51:08.745Z",
          "iopub.execute_input": "2020-09-25T03:51:08.802Z",
          "iopub.status.idle": "2020-09-25T03:51:08.931Z",
          "shell.execute_reply": "2020-09-25T03:51:08.983Z"
        }
      }
    },
    {
      "cell_type": "markdown",
      "source": [
        "### <center> >= </center>"
      ],
      "metadata": {
        "nteract": {
          "transient": {
            "deleting": false
          }
        }
      }
    },
    {
      "cell_type": "code",
      "source": [
        "print(f'3 >= 5 {3 >= 5}')\n",
        "print(f'5 >= 3 {5 >= 3}')\n",
        "print(f'5 >= 5 {5 >= 5}')\n",
        "print(f'hola >= mundo {\"hola\" >= \"mundo\"}')\n"
      ],
      "outputs": [],
      "execution_count": null,
      "metadata": {
        "collapsed": true,
        "jupyter": {
          "source_hidden": false,
          "outputs_hidden": false
        },
        "nteract": {
          "transient": {
            "deleting": false
          }
        },
        "execution": {
          "iopub.status.busy": "2020-09-25T03:52:56.349Z",
          "iopub.execute_input": "2020-09-25T03:52:56.431Z",
          "iopub.status.idle": "2020-09-25T03:52:56.608Z",
          "shell.execute_reply": "2020-09-25T03:52:56.695Z"
        }
      }
    },
    {
      "cell_type": "code",
      "source": [
        "#Utilizando variables\n",
        "n1 = 33\n",
        "n2 = 55\n",
        "resultado = n1 >= n2\n",
        "print(f'{n1} >= {n2} {resultado}')"
      ],
      "outputs": [],
      "execution_count": null,
      "metadata": {
        "collapsed": true,
        "jupyter": {
          "source_hidden": false,
          "outputs_hidden": false
        },
        "nteract": {
          "transient": {
            "deleting": false
          }
        },
        "execution": {
          "iopub.status.busy": "2020-09-25T03:53:12.255Z",
          "iopub.execute_input": "2020-09-25T03:53:12.336Z",
          "iopub.status.idle": "2020-09-25T03:53:12.509Z",
          "shell.execute_reply": "2020-09-25T03:53:12.591Z"
        }
      }
    },
    {
      "cell_type": "code",
      "source": [
        "#Se pueden encadenar operaciones >= y se evalúan desde la más interna hacia la externa\n",
        "\n",
        "7 >= 5 >= 3"
      ],
      "outputs": [],
      "execution_count": null,
      "metadata": {
        "collapsed": true,
        "jupyter": {
          "source_hidden": false,
          "outputs_hidden": false
        },
        "nteract": {
          "transient": {
            "deleting": false
          }
        },
        "execution": {
          "iopub.status.busy": "2020-09-25T04:23:54.573Z",
          "iopub.execute_input": "2020-09-25T04:23:54.663Z",
          "iopub.status.idle": "2020-09-25T04:23:54.854Z",
          "shell.execute_reply": "2020-09-25T04:23:54.945Z"
        }
      }
    },
    {
      "cell_type": "markdown",
      "source": [
        "### <center> == </center>"
      ],
      "metadata": {
        "nteract": {
          "transient": {
            "deleting": false
          }
        }
      }
    },
    {
      "cell_type": "code",
      "source": [
        "print(f'3 == 5 {3 == 5}')\n",
        "print(f'5 == 3 {5 == 3}')\n",
        "print(f'5 == 5 {5 == 5}')\n",
        "print(f'hola == mundo {\"hola\" == \"mundo\"}')\n"
      ],
      "outputs": [],
      "execution_count": null,
      "metadata": {
        "collapsed": true,
        "jupyter": {
          "source_hidden": false,
          "outputs_hidden": false
        },
        "nteract": {
          "transient": {
            "deleting": false
          }
        },
        "execution": {
          "iopub.status.busy": "2020-09-25T03:55:12.193Z",
          "iopub.execute_input": "2020-09-25T03:55:12.301Z",
          "iopub.status.idle": "2020-09-25T03:55:12.477Z",
          "shell.execute_reply": "2020-09-25T03:55:12.563Z"
        }
      }
    },
    {
      "cell_type": "code",
      "source": [
        "#Utilizando variables\n",
        "n1 = 33\n",
        "n2 = 55\n",
        "resultado = n1 == n2\n",
        "print(f'{n1} == {n2} {resultado}')"
      ],
      "outputs": [],
      "execution_count": null,
      "metadata": {
        "collapsed": true,
        "jupyter": {
          "source_hidden": false,
          "outputs_hidden": false
        },
        "nteract": {
          "transient": {
            "deleting": false
          }
        },
        "execution": {
          "iopub.status.busy": "2020-09-25T03:55:23.147Z",
          "iopub.execute_input": "2020-09-25T03:55:23.240Z",
          "iopub.status.idle": "2020-09-25T03:55:23.422Z",
          "shell.execute_reply": "2020-09-25T03:55:23.509Z"
        }
      }
    },
    {
      "cell_type": "code",
      "source": [
        "#Se pueden encadenar operaciones == y se evalúan desde la más interna hacia la externa\n",
        "\n",
        "7 == 5 == 3"
      ],
      "outputs": [],
      "execution_count": null,
      "metadata": {
        "collapsed": true,
        "jupyter": {
          "source_hidden": false,
          "outputs_hidden": false
        },
        "nteract": {
          "transient": {
            "deleting": false
          }
        },
        "execution": {
          "iopub.status.busy": "2020-09-25T04:23:44.655Z",
          "iopub.execute_input": "2020-09-25T04:23:44.742Z",
          "iopub.status.idle": "2020-09-25T04:23:44.939Z",
          "shell.execute_reply": "2020-09-25T04:23:45.027Z"
        }
      }
    },
    {
      "cell_type": "markdown",
      "source": [
        "### <center> != </center>"
      ],
      "metadata": {
        "nteract": {
          "transient": {
            "deleting": false
          }
        }
      }
    },
    {
      "cell_type": "code",
      "source": [
        "print(f'3 != 5 {3 != 5}')\n",
        "print(f'5 != 3 {5 != 3}')\n",
        "print(f'5 != 5 {5 != 5}')\n",
        "print(f'hola != mundo {\"hola\" != \"mundo\"}')\n"
      ],
      "outputs": [],
      "execution_count": null,
      "metadata": {
        "collapsed": true,
        "jupyter": {
          "source_hidden": false,
          "outputs_hidden": false
        },
        "nteract": {
          "transient": {
            "deleting": false
          }
        },
        "execution": {
          "iopub.status.busy": "2020-09-25T06:28:45.504Z",
          "iopub.execute_input": "2020-09-25T06:28:45.612Z",
          "iopub.status.idle": "2020-09-25T06:28:45.864Z",
          "shell.execute_reply": "2020-09-25T06:28:45.981Z"
        }
      }
    },
    {
      "cell_type": "code",
      "source": [
        "#Utilizando variables\n",
        "n1 = 33\n",
        "n2 = 55\n",
        "resultado = n1 != n2\n",
        "print(f'{n1} != {n2} {resultado}')"
      ],
      "outputs": [],
      "execution_count": null,
      "metadata": {
        "collapsed": true,
        "jupyter": {
          "source_hidden": false,
          "outputs_hidden": false
        },
        "nteract": {
          "transient": {
            "deleting": false
          }
        },
        "execution": {
          "iopub.status.busy": "2020-09-25T06:29:01.145Z",
          "iopub.execute_input": "2020-09-25T06:29:01.252Z",
          "iopub.status.idle": "2020-09-25T06:29:01.465Z",
          "shell.execute_reply": "2020-09-25T06:29:01.573Z"
        }
      }
    },
    {
      "cell_type": "code",
      "source": [
        "#Se pueden encadenar operaciones == y se evalúan desde la más interna hacia la externa\n",
        "\n",
        "7 != 5 != 3"
      ],
      "outputs": [],
      "execution_count": null,
      "metadata": {
        "collapsed": true,
        "jupyter": {
          "source_hidden": false,
          "outputs_hidden": false
        },
        "nteract": {
          "transient": {
            "deleting": false
          }
        },
        "execution": {
          "iopub.status.busy": "2020-09-25T06:29:10.224Z",
          "iopub.execute_input": "2020-09-25T06:29:10.323Z",
          "iopub.status.idle": "2020-09-25T06:29:10.568Z",
          "shell.execute_reply": "2020-09-25T06:29:10.654Z"
        }
      }
    }
  ],
  "metadata": {
    "kernel_info": {
      "name": "venv"
    },
    "language_info": {
      "name": "python",
      "version": "3.7.3",
      "mimetype": "text/x-python",
      "codemirror_mode": {
        "name": "ipython",
        "version": 3
      },
      "pygments_lexer": "ipython3",
      "nbconvert_exporter": "python",
      "file_extension": ".py"
    },
    "kernelspec": {
      "argv": [
        "/home/fel/Documents/Profesor/nteract/venv/bin/python",
        "-m",
        "ipykernel_launcher",
        "-f",
        "{connection_file}"
      ],
      "display_name": "venv",
      "language": "python",
      "name": "venv"
    },
    "nteract": {
      "version": "0.25.0"
    }
  },
  "nbformat": 4,
  "nbformat_minor": 0
}