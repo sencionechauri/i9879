{
  "cells": [
    {
      "cell_type": "markdown",
      "source": [
        "# <center>Estructura Selectiva Simple (if)</center>"
      ],
      "metadata": {
        "nteract": {
          "transient": {
            "deleting": false
          }
        }
      }
    },
    {
      "cell_type": "markdown",
      "source": [
        "Ejecuta determinada acción cuando se cumple una condición establecida, la selección *si entonces* (if, then) evalúa la condición y:\n",
        "\n",
        "* Si es verdadera ejecuta la acción.\n",
        "* Si la condición es falsa entonces no la ejecuta."
      ],
      "metadata": {
        "nteract": {
          "transient": {
            "deleting": false
          }
        }
      }
    },
    {
      "cell_type": "markdown",
      "source": [
        "## <center>Patrón</center>\n",
        "\n",
        "```\n",
        "if <condición>:\n",
        "    <instrucciones>\n",
        "```\n",
        "\n"
      ],
      "metadata": {
        "nteract": {
          "transient": {
            "deleting": false
          }
        }
      }
    },
    {
      "cell_type": "markdown",
      "source": [
        "## <center>Ejemplos</center>"
      ],
      "metadata": {
        "nteract": {
          "transient": {
            "deleting": false
          }
        }
      }
    },
    {
      "cell_type": "code",
      "source": [
        "#script en Python que solicite un número entero e indique si es número par o no\n",
        "\n",
        "numero = int(input('Ingresa un número: '))\n",
        "\n",
        "if numero % 2 == 0:\n",
        "    #Todas las instrucciones que estén n espacios a la derecha con respecto de la instrucción if son parte del bloque\n",
        "    print('El número es par')\n",
        "if numero % 2 != 0:\n",
        "    print('El número es impar')\n",
        "\n",
        "input('Presiona enter para continuar...')"
      ],
      "outputs": [],
      "execution_count": null,
      "metadata": {
        "collapsed": true,
        "jupyter": {
          "source_hidden": false,
          "outputs_hidden": false
        },
        "nteract": {
          "transient": {
            "deleting": false
          }
        },
        "execution": {
          "iopub.status.busy": "2020-09-25T06:31:47.950Z",
          "iopub.execute_input": "2020-09-25T06:31:47.985Z",
          "iopub.status.idle": "2020-09-25T06:31:56.785Z",
          "shell.execute_reply": "2020-09-25T06:31:56.832Z"
        }
      }
    },
    {
      "cell_type": "code",
      "source": [
        "#script en Python que solicite la edad y el nombre del usuario y si la edad es mayor o igual que 18 le indique que ya es mayor de edad.\n",
        "\n",
        "nombre = input('¿Cómo te llamas? ')\n",
        "edad = int(input('¿Cuántos años tienes? '))\n",
        "\n",
        "if edad >= 18:\n",
        "    #Todas las instrucciones que estén n espacios a la derecha con respecto de la instrucción if son parte del bloque\n",
        "    print(f'Ya eres mayor de edad {nombre} sigue por el buen camino')\n",
        "    print('Saludos a la familia')\n",
        "    \n",
        "input('Presiona enter para continuar...')"
      ],
      "outputs": [],
      "execution_count": null,
      "metadata": {
        "collapsed": true,
        "jupyter": {
          "source_hidden": false,
          "outputs_hidden": false
        },
        "nteract": {
          "transient": {
            "deleting": false
          }
        },
        "execution": {
          "iopub.status.busy": "2020-09-25T04:38:55.583Z",
          "iopub.execute_input": "2020-09-25T04:38:55.616Z",
          "iopub.status.idle": "2020-09-25T04:39:04.109Z",
          "shell.execute_reply": "2020-09-25T04:39:04.151Z"
        }
      }
    },
    {
      "cell_type": "code",
      "source": [
        "#script en Python que solicite la calificación y promedio de asistencias de un alumno y si la calificación es mayor o igual que 60 y el porcentaje de asistencias es mayor o igual que 80 le indique que aprobó el curso.\n",
        "\n",
        "calificacion = int(input('¿Cuál es tu calificación? '))\n",
        "asistencias = int(input('¿Cuál es tu porcentaje de asistencias? '))\n",
        "\n",
        "if calificacion >= 60 and asistencias >= 80:\n",
        "    print('Felicidades ya la libraste')\n",
        "    if calificacion >= 95:\n",
        "        #Podemos utilizar una estructura if dentro de otra estructura if\n",
        "        print('Estudiante sobresaliente. Pídele beca a AMLO')\n",
        "\n",
        "print('Gracias por utilizar este sofisticado programa')\n",
        "input('Presiona enter para continuar...')"
      ],
      "outputs": [],
      "execution_count": null,
      "metadata": {
        "collapsed": true,
        "jupyter": {
          "source_hidden": false,
          "outputs_hidden": false
        },
        "nteract": {
          "transient": {
            "deleting": false
          }
        },
        "execution": {
          "iopub.status.busy": "2020-09-25T04:39:12.385Z",
          "iopub.execute_input": "2020-09-25T04:39:12.417Z",
          "iopub.status.idle": "2020-09-25T04:39:26.083Z",
          "shell.execute_reply": "2020-09-25T04:39:26.137Z"
        }
      }
    },
    {
      "cell_type": "code",
      "source": [
        "#script que solicite al usuario la temperatura actual. Si la temperatura está entre 18 y 27 grados le indique que el clima es agradable.\n",
        "\n",
        "temperatura = int(input('¿Cuántos grados indica el termómetro? '))\n",
        "\n",
        "if 18 <= temperatura <= 27:\n",
        "    print('Clima agradable, no cargues el suéter')\n",
        "\n",
        "print('Disfruta tu día. y aguas con el coronavirus :V')\n",
        "input('Presiona enter para continuar...') "
      ],
      "outputs": [],
      "execution_count": null,
      "metadata": {
        "collapsed": true,
        "jupyter": {
          "source_hidden": false,
          "outputs_hidden": false
        },
        "nteract": {
          "transient": {
            "deleting": false
          }
        },
        "execution": {
          "iopub.status.busy": "2020-09-25T04:42:07.139Z",
          "iopub.execute_input": "2020-09-25T04:42:07.164Z",
          "iopub.status.idle": "2020-09-25T04:42:12.638Z",
          "shell.execute_reply": "2020-09-25T04:42:12.675Z"
        }
      }
    },
    {
      "cell_type": "code",
      "source": [
        "#script que simule la temperatura actual con un número aleatorio y si la temperatura está entre 18 y 27 grados le indique\n",
        "#que el clima es agradable; si es menor que 18 le indique que hace frío y si es mayor que 27 le diga que hace calor.\n",
        "\n",
        "#Importamos el módulo llamado random que nos permita generar números aleatorios\n",
        "import random\n",
        "\n",
        "#randint permite generar números enteros aleatorios y entre paréntesis escribimos el menor y mayor número posible que queremos \n",
        "#que pueda generar, o sea el rango.\n",
        "temperatura = random.randint(0, 45)\n",
        "\n",
        "print(f'La temperatura es {temperatura}°')\n",
        "\n",
        "if 18 <= temperatura <= 27:\n",
        "    print('Clima agradable, no cargues el suéter')\n",
        "if temperatura < 18:\n",
        "    print('Hace frío, lleva una sudadera')\n",
        "if temperatura > 27:\n",
        "    print('Hace calor, lleva ropa ligera')\n",
        "\n",
        "print('Disfruta tu día')\n",
        "input('Presiona enter para continuar...')"
      ],
      "outputs": [],
      "execution_count": null,
      "metadata": {
        "collapsed": true,
        "jupyter": {
          "source_hidden": false,
          "outputs_hidden": false
        },
        "nteract": {
          "transient": {
            "deleting": false
          }
        },
        "execution": {
          "iopub.status.busy": "2020-09-25T04:48:48.761Z",
          "iopub.execute_input": "2020-09-25T04:48:48.797Z",
          "iopub.status.idle": "2020-09-25T04:48:47.221Z",
          "shell.execute_reply": "2020-09-25T04:48:47.274Z"
        }
      }
    },
    {
      "cell_type": "markdown",
      "source": [
        "En el siguiente <a href=\"https://drive.google.com/file/d/13f47gglqjvc4dCB4kU1w_XhcOtCihH44/view?usp=sharing\">enlace </a> encontrarás los scripts correspondientes a este cuaderno. Puede abrirlos en tu editor y tratar de correrlos ahí también."
      ],
      "metadata": {
        "nteract": {
          "transient": {
            "deleting": false
          }
        }
      }
    }
  ],
  "metadata": {
    "kernel_info": {
      "name": "venv"
    },
    "language_info": {
      "name": "python",
      "version": "3.7.3",
      "mimetype": "text/x-python",
      "codemirror_mode": {
        "name": "ipython",
        "version": 3
      },
      "pygments_lexer": "ipython3",
      "nbconvert_exporter": "python",
      "file_extension": ".py"
    },
    "kernelspec": {
      "argv": [
        "/home/fel/Documents/Profesor/nteract/venv/bin/python",
        "-m",
        "ipykernel_launcher",
        "-f",
        "{connection_file}"
      ],
      "display_name": "venv",
      "language": "python",
      "name": "venv"
    },
    "nteract": {
      "version": "0.25.0"
    }
  },
  "nbformat": 4,
  "nbformat_minor": 0
}