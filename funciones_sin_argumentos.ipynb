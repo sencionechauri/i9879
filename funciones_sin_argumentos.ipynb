{
  "cells": [
    {
      "cell_type": "markdown",
      "source": [
        "# <center>Funciones Sin Argumentos</center>"
      ],
      "metadata": {
        "nteract": {
          "transient": {
            "deleting": false
          }
        }
      }
    },
    {
      "cell_type": "markdown",
      "source": [
        "En este cuaderno realizaremos algunos ejemplos de funciones que no usen argumentos.\n",
        "\n",
        "Las funciones se diferencian de los procedimientos en que regresan uno o varios valores al entorno de llamada; es decir una función además de poder realizar varias instrucciones entregará un valor que será regresado al lugar en donde se hizo su llamada.\n",
        "\n",
        "Ya hemos trabajado con funciones antes, por ejemplo la función ```random.randint(min, max)``` genera un valor aleatorio y lo regresa para que nosotros podamos trabajar con él."
      ],
      "metadata": {
        "nteract": {
          "transient": {
            "deleting": false
          }
        }
      }
    },
    {
      "cell_type": "markdown",
      "source": [
        "Comencemos por un ejemplo bastante sencillo en el cual calculemos el área de un triángulo."
      ],
      "metadata": {
        "nteract": {
          "transient": {
            "deleting": false
          }
        }
      }
    },
    {
      "cell_type": "code",
      "source": [
        "'''\n",
        "script en Python que implemente una función que permita calcular el área de un triángulo.\n",
        "'''\n",
        "\n",
        "def area_triangulo():\n",
        "    #solicitamos los datos\n",
        "    base = float(input('Base: '))\n",
        "    altura = float(input('Altura: '))\n",
        "    area = base * altura / 2\n",
        "    #regresamos el valor calculado\n",
        "    return area\n",
        "\n",
        "#en resultado guardamos el valor regresado por la función area_triangulo()\n",
        "resultado = area_triangulo()\n",
        "print(f'area = {resultado}')"
      ],
      "outputs": [],
      "execution_count": null,
      "metadata": {
        "collapsed": true,
        "jupyter": {
          "source_hidden": false,
          "outputs_hidden": false
        },
        "nteract": {
          "transient": {
            "deleting": false
          }
        },
        "execution": {
          "iopub.status.busy": "2020-10-30T03:59:19.928Z",
          "iopub.execute_input": "2020-10-30T03:59:19.970Z",
          "iopub.status.idle": "2020-10-30T03:59:26.354Z",
          "shell.execute_reply": "2020-10-30T03:59:26.410Z"
        }
      }
    },
    {
      "cell_type": "code",
      "source": [
        "'''Podemos hacer uso de nuestra función cuantas veces lo necesitemos\n",
        "y en cualquier parte del script siempre y cuando ya haya sido definido.\n",
        "'''\n",
        "print(f'area = {area_triangulo()}')"
      ],
      "outputs": [],
      "execution_count": null,
      "metadata": {
        "collapsed": true,
        "jupyter": {
          "source_hidden": false,
          "outputs_hidden": false
        },
        "nteract": {
          "transient": {
            "deleting": false
          }
        },
        "execution": {
          "iopub.status.busy": "2020-10-30T04:05:56.271Z",
          "iopub.execute_input": "2020-10-30T04:05:56.298Z",
          "iopub.status.idle": "2020-10-30T04:06:01.764Z",
          "shell.execute_reply": "2020-10-30T04:06:01.735Z"
        }
      }
    },
    {
      "cell_type": "markdown",
      "source": [
        "En el siguiente ejemplo crearemos una función que se encargue de calcular el índice de masa corporal del usuario. Dentro de la función se realizará la petición de los datos."
      ],
      "metadata": {
        "nteract": {
          "transient": {
            "deleting": false
          }
        }
      }
    },
    {
      "cell_type": "code",
      "source": [
        "'''\n",
        "script en Python que implemente una función sin parámetros encargada de calcular el índice de masa corporal del usuario.\n",
        "'''\n",
        "\n",
        "def imc():\n",
        "    masa = float(input('Masa (kilos): '))\n",
        "    estatura = float(input('Estatura (metros): '))\n",
        "    resultado = masa / (estatura ** 2)\n",
        "    return resultado\n",
        "\n",
        "indice = imc()\n",
        "print(f'Tu IMC es: {indice :.2f}')"
      ],
      "outputs": [],
      "execution_count": null,
      "metadata": {
        "collapsed": true,
        "jupyter": {
          "source_hidden": false,
          "outputs_hidden": false
        },
        "nteract": {
          "transient": {
            "deleting": false
          }
        },
        "execution": {
          "iopub.status.busy": "2020-10-30T04:11:58.164Z",
          "iopub.execute_input": "2020-10-30T04:11:58.195Z",
          "iopub.status.idle": "2020-10-30T04:12:10.534Z",
          "shell.execute_reply": "2020-10-30T04:12:10.598Z"
        }
      }
    },
    {
      "cell_type": "markdown",
      "source": [
        "Aquí tienes el <a href=\"https://drive.google.com/file/d/17oGYKaxEHsWtkRW6DUZtyh0DNY3yMGu2/view?usp=sharing\">enlace </a> con los scripts correspondientes a este cuaderno. Puede abrirlos en tu editor y tratar de correrlos ahí también."
      ],
      "metadata": {
        "nteract": {
          "transient": {
            "deleting": false
          }
        }
      }
    }
  ],
  "metadata": {
    "kernel_info": {
      "name": "venv"
    },
    "language_info": {
      "name": "python",
      "version": "3.7.3",
      "mimetype": "text/x-python",
      "codemirror_mode": {
        "name": "ipython",
        "version": 3
      },
      "pygments_lexer": "ipython3",
      "nbconvert_exporter": "python",
      "file_extension": ".py"
    },
    "kernelspec": {
      "argv": [
        "/home/fel/Documents/Profesor/nteract/venv/bin/python",
        "-m",
        "ipykernel_launcher",
        "-f",
        "{connection_file}"
      ],
      "display_name": "venv",
      "language": "python",
      "name": "venv"
    },
    "nteract": {
      "version": "0.26.0"
    }
  },
  "nbformat": 4,
  "nbformat_minor": 0
}