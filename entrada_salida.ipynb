{
  "cells": [
    {
      "cell_type": "markdown",
      "source": [
        "# <center>Entrada y Salida</center>"
      ],
      "metadata": {
        "nteract": {
          "transient": {
            "deleting": false
          }
        }
      }
    },
    {
      "cell_type": "markdown",
      "source": [
        "Parte importante de la ejecución de los programas depende de la interacción con los usuarios; en este cuaderno veremos cómo podemos mostrar mensajes en la pantalla y obtener datos por parte del usuario."
      ],
      "metadata": {
        "nteract": {
          "transient": {
            "deleting": false
          }
        }
      }
    },
    {
      "cell_type": "markdown",
      "source": [
        "# <center>Salida - print()</center>\n",
        "\n",
        "Si deseamos mostrar datos en la pantalla debemos utilzar el procedimiento **print()** y dentro de los paréntesis el mensaje que deseamos mostrar."
      ],
      "metadata": {
        "nteract": {
          "transient": {
            "deleting": false
          }
        }
      }
    },
    {
      "cell_type": "code",
      "source": [
        "print('Hola Python!')"
      ],
      "outputs": [],
      "execution_count": null,
      "metadata": {
        "collapsed": true,
        "jupyter": {
          "source_hidden": false,
          "outputs_hidden": false
        },
        "nteract": {
          "transient": {
            "deleting": false
          }
        },
        "execution": {
          "iopub.status.busy": "2020-09-18T02:13:57.421Z",
          "iopub.execute_input": "2020-09-18T02:13:57.449Z",
          "iopub.status.idle": "2020-09-18T02:13:57.499Z",
          "shell.execute_reply": "2020-09-18T02:13:57.529Z"
        }
      }
    },
    {
      "cell_type": "markdown",
      "source": [
        "Existen distintas formas en las que podemos utilizar el procedimiento **print()**, si deseamos mostrar el valor de una sola variable podemos escribir entre los paréntesis la variable sin importar el tipo de dato del que se trate."
      ],
      "metadata": {
        "nteract": {
          "transient": {
            "deleting": false
          }
        }
      }
    },
    {
      "cell_type": "code",
      "source": [
        "nombre = 'José Nava'\n",
        "edad = 33\n",
        "print(nombre)\n",
        "print(edad)"
      ],
      "outputs": [],
      "execution_count": null,
      "metadata": {
        "collapsed": true,
        "jupyter": {
          "source_hidden": false,
          "outputs_hidden": false
        },
        "nteract": {
          "transient": {
            "deleting": false
          }
        },
        "execution": {
          "iopub.status.busy": "2020-09-18T02:17:09.994Z",
          "iopub.execute_input": "2020-09-18T02:17:10.021Z",
          "iopub.status.idle": "2020-09-18T02:17:10.068Z",
          "shell.execute_reply": "2020-09-18T02:17:10.091Z"
        }
      }
    },
    {
      "cell_type": "markdown",
      "source": [
        "Si queremos hacer impresiones con más información en las que podamos mezclar texto y variables podemos hacer una impresión con formato, para ello dentro de los paréntesis escribimos una f (para indicar formato) seguida de una cadena de texto en la cual cada variable que quisieramos imprimir debe estar enmarcada entre llaves."
      ],
      "metadata": {
        "nteract": {
          "transient": {
            "deleting": false
          }
        }
      }
    },
    {
      "cell_type": "code",
      "source": [
        "print(f'Nombre: {nombre}') #{nombre} indica que en esa posición de la cadena se debe mostrar el valor que guarda la variable nombre\n",
        "print(f'Edad: {edad} años') #la variable edad previamente declarada se imprime entre Edad: y años"
      ],
      "outputs": [],
      "execution_count": null,
      "metadata": {
        "collapsed": true,
        "jupyter": {
          "source_hidden": false,
          "outputs_hidden": false
        },
        "nteract": {
          "transient": {
            "deleting": false
          }
        },
        "execution": {
          "iopub.status.busy": "2020-09-18T02:22:48.779Z",
          "iopub.execute_input": "2020-09-18T02:22:48.809Z",
          "iopub.status.idle": "2020-09-18T02:22:48.892Z",
          "shell.execute_reply": "2020-09-18T02:22:48.927Z"
        }
      }
    },
    {
      "cell_type": "markdown",
      "source": [
        "# <center>Entrada - input()</center>\n",
        "\n",
        "Para solicitar datos de entrada por parte del usuario utilizamos la función **input()**. Al igual que print() hay distintas formas de utilizar la función de entrada.\n",
        "\n",
        "\n",
        "Si no escribimos nada entre los paréntesis simplemente el programa quedará esperando por una entrada del usuario sin proveer un mensaje; si por el contrario entre los paréntesis escribimos un mensaje entre comillas entonces ese mensaje le será mostrado al usuario como indicación de qué se espera como entrada. La entrada de datos termina cuando presionamos *enter*."
      ],
      "metadata": {
        "nteract": {
          "transient": {
            "deleting": false
          }
        }
      }
    },
    {
      "cell_type": "code",
      "source": [
        "input() #El programa espera entrada por parte del usuario"
      ],
      "outputs": [],
      "execution_count": null,
      "metadata": {
        "collapsed": true,
        "jupyter": {
          "source_hidden": false,
          "outputs_hidden": false
        },
        "nteract": {
          "transient": {
            "deleting": false
          }
        },
        "execution": {
          "iopub.status.busy": "2020-09-18T02:42:16.595Z",
          "iopub.execute_input": "2020-09-18T02:42:16.622Z",
          "iopub.status.idle": "2020-09-18T02:42:23.627Z",
          "shell.execute_reply": "2020-09-18T02:42:23.677Z"
        }
      }
    },
    {
      "cell_type": "code",
      "source": [
        "input('Escribe un mensaje: ') #El programa espera entrada por parte del usuario y le muestra 'Escribe un mensaje: '"
      ],
      "outputs": [],
      "execution_count": null,
      "metadata": {
        "collapsed": true,
        "jupyter": {
          "source_hidden": false,
          "outputs_hidden": false
        },
        "nteract": {
          "transient": {
            "deleting": false
          }
        },
        "execution": {
          "iopub.status.busy": "2020-09-18T02:43:56.502Z",
          "iopub.execute_input": "2020-09-18T02:43:56.520Z",
          "iopub.status.idle": "2020-09-18T02:44:07.110Z",
          "shell.execute_reply": "2020-09-18T02:44:07.149Z"
        }
      }
    },
    {
      "cell_type": "markdown",
      "source": [
        "Si queremos almacenar la información ingresada por el usuario debemos asignarla a una variable e independientemente de qué escriba el usuario será interpretado como una cadena."
      ],
      "metadata": {
        "nteract": {
          "transient": {
            "deleting": false
          }
        }
      }
    },
    {
      "cell_type": "code",
      "source": [
        "cadena = input('Escribe una frase: ')\n",
        "numero = input('Escribe un número')\n",
        "# Ahora mostremos el tipo de dato de las variables ingresadas por el usuario\n",
        "print(f'cadena es de tipo: {type(cadena)}')\n",
        "print(f'numero es de tipo: {type(numero)}')"
      ],
      "outputs": [],
      "execution_count": null,
      "metadata": {
        "collapsed": true,
        "jupyter": {
          "source_hidden": false,
          "outputs_hidden": false
        },
        "nteract": {
          "transient": {
            "deleting": false
          }
        },
        "execution": {
          "iopub.status.busy": "2020-09-18T02:52:32.137Z",
          "iopub.execute_input": "2020-09-18T02:52:32.166Z",
          "iopub.status.idle": "2020-09-18T02:52:38.284Z",
          "shell.execute_reply": "2020-09-18T02:52:38.329Z"
        }
      }
    },
    {
      "cell_type": "markdown",
      "source": [
        "Si queremos que la información ingresada sea interpretada como un valor numérico (o de algún otro tipo) entonces debemos convertirla al tipo correspondiente."
      ],
      "metadata": {
        "nteract": {
          "transient": {
            "deleting": false
          }
        }
      }
    },
    {
      "cell_type": "code",
      "source": [
        "entero = input('Escribe un número entero: ') #Solicitamos un valor\n",
        "entero = int(entero) #Reemplazamos el valor en entero por su representación como número entero\n",
        "real = input('Escribe un número real: ')\n",
        "real = float(real) #Reemplazamos el valor en real por su representación como número de coma flotante\n",
        "\n",
        "#Mostramos el tipo de dato de las variables\n",
        "print(f'entero es de tipo: {type(entero)}')\n",
        "print(f'real es de tipo: {type(real)}')"
      ],
      "outputs": [],
      "execution_count": null,
      "metadata": {
        "collapsed": true,
        "jupyter": {
          "source_hidden": false,
          "outputs_hidden": false
        },
        "nteract": {
          "transient": {
            "deleting": false
          }
        },
        "execution": {
          "iopub.status.busy": "2020-09-18T02:58:47.759Z",
          "iopub.execute_input": "2020-09-18T02:58:47.803Z",
          "iopub.status.idle": "2020-09-18T02:58:58.592Z",
          "shell.execute_reply": "2020-09-18T02:58:58.645Z"
        }
      }
    },
    {
      "cell_type": "code",
      "source": [
        "#Veamos un ejemplo de lo que puede lograr Python\n",
        "nombre = input('¿Cómo te llamas? ')\n",
        "print(f'Hola {nombre}, vamos a jugar... piensa en un número')\n",
        "input('Presiona enter cuando estés listo')\n",
        "print('Ahora multiplica ese número por dos')\n",
        "input('Presiona enter cuando estés listo')\n",
        "print(f'Muy bien {nombre}, ahora súmale 10 a ese valor')\n",
        "input('Presiona enter cuando estés listo')\n",
        "print('Divide ese número por dos')\n",
        "input(f'Presiona enter cuando estés listo {nombre}')\n",
        "print('A esa cantidad restale tu número inicial')\n",
        "input('Presiona enter cuando estés listo')\n",
        "print('El número que tienes en la mente es... 5 nmms')\n",
        "input('Presiona enter para terminar')"
      ],
      "outputs": [],
      "execution_count": null,
      "metadata": {
        "collapsed": true,
        "jupyter": {
          "source_hidden": false,
          "outputs_hidden": false
        },
        "nteract": {
          "transient": {
            "deleting": false
          }
        },
        "execution": {
          "iopub.status.busy": "2020-09-18T03:10:05.874Z",
          "iopub.execute_input": "2020-09-18T03:10:05.905Z",
          "iopub.status.idle": "2020-09-18T03:10:55.171Z",
          "shell.execute_reply": "2020-09-18T03:10:55.211Z"
        }
      }
    },
    {
      "cell_type": "markdown",
      "source": [
        "Acá te dejo el <a href=\"https://drive.google.com/file/d/1qdWFj_fKtSpzzb5OGmlOxcMDH24NmQJp/view?usp=sharing\">enlace</a> a programas con el código hecho para este notebook. Para usarlos en tu equipo puedes abrir cada archivo .py en tu editor y correrlo desde ahí."
      ],
      "metadata": {
        "nteract": {
          "transient": {
            "deleting": false
          }
        }
      }
    }
  ],
  "metadata": {
    "kernel_info": {
      "name": "venv"
    },
    "language_info": {
      "name": "python",
      "version": "3.7.3",
      "mimetype": "text/x-python",
      "codemirror_mode": {
        "name": "ipython",
        "version": 3
      },
      "pygments_lexer": "ipython3",
      "nbconvert_exporter": "python",
      "file_extension": ".py"
    },
    "kernelspec": {
      "argv": [
        "/home/fel/Documents/Profesor/nteract/venv/bin/python",
        "-m",
        "ipykernel_launcher",
        "-f",
        "{connection_file}"
      ],
      "display_name": "venv",
      "language": "python",
      "name": "venv"
    },
    "nteract": {
      "version": "0.25.0"
    }
  },
  "nbformat": 4,
  "nbformat_minor": 0
}