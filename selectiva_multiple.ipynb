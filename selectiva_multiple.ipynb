{
  "cells": [
    {
      "cell_type": "markdown",
      "source": [
        "# <center>Estructura Selectiva Multiple (if-elif-else)</center>"
      ],
      "metadata": {
        "nteract": {
          "transient": {
            "deleting": false
          }
        }
      }
    },
    {
      "cell_type": "markdown",
      "source": [
        "Ejecuta determinada acción dependiendo del valor de una variable de decisión, la selección si, sino si (if-elif-else) evalúa la variable y:\n",
        "\n",
        "\n",
        "* Si coincide con un caso ejecuta dicha acción.\n",
        "* Si no coincide con ningún caso ejecuta una acción por defecto."
      ],
      "metadata": {
        "nteract": {
          "transient": {
            "deleting": false
          }
        }
      }
    },
    {
      "cell_type": "markdown",
      "source": [
        "## <center>Patrón</center>\n",
        "\n",
        "```\n",
        "if <condición1>:\n",
        "    <instrucciones>\n",
        "elif <condición2>:\n",
        "    <instrucciones>\n",
        "elif <condición3>:\n",
        "    <instrucciones>\n",
        ". . . .\n",
        "else:\n",
        "    <instrucciones>\n",
        "```\n",
        "\n"
      ],
      "metadata": {
        "nteract": {
          "transient": {
            "deleting": false
          }
        }
      }
    },
    {
      "cell_type": "markdown",
      "source": [
        "La estructura selectiva múltiple es de utilidad cuando tenemos distintas situaciones concretas que necesitamos evaluar o distintos valores conocidos que puede tomar una variable."
      ],
      "metadata": {
        "nteract": {
          "transient": {
            "deleting": false
          }
        }
      }
    },
    {
      "cell_type": "markdown",
      "source": [
        "## <center>Ejemplos</center>"
      ],
      "metadata": {
        "nteract": {
          "transient": {
            "deleting": false
          }
        }
      }
    },
    {
      "cell_type": "markdown",
      "source": [
        "Comencemos con un script en el cual se evalúen las distintas combinaciones para dos variables distintas. En este caso podemos tener cuatro posibilidades y queremos que para cada una de ellas se muestre un mensaje particular.\n",
        "\n",
        "¡Has pruebas con distintas combinaciones!"
      ],
      "metadata": {
        "nteract": {
          "transient": {
            "deleting": false
          }
        }
      }
    },
    {
      "cell_type": "code",
      "source": [
        "'''\n",
        "script en Python que solicite la calificación y\n",
        "porcentaje de asistencias de un alumno. Si la\n",
        "calificación es mayor o igual que 60 y el porcentaje de asistencias es mayor o igual a 80 entonces indicarle que\n",
        "aprobó el curso, en caso de no haber aprobado\n",
        "indicarle en qué falló.\n",
        "'''\n",
        "#Constantes de nuestro programa\n",
        "MIN_CAL = 60\n",
        "MIN_ASIS = 80\n",
        "\n",
        "calif = int(input('Calificación: '))\n",
        "asis = int(input('Porcentaje de asistencias: '))\n",
        "\n",
        "if calif >= MIN_CAL and asis >= MIN_ASIS:\n",
        "    print('¡Aprobado! Muy bien.')\n",
        "elif calif < MIN_CAL and asis >= MIN_ASIS:\n",
        "    print('Lo siento no tienes los puntos suficientes.')\n",
        "elif calif >= MIN_CAL and asis < MIN_ASIS:\n",
        "    print('Lo siento no tienes las asistencias suficientes.')\n",
        "else:\n",
        "    print('Te faltaron tanto puntos como aistencias')"
      ],
      "outputs": [],
      "execution_count": null,
      "metadata": {
        "collapsed": true,
        "jupyter": {
          "source_hidden": false,
          "outputs_hidden": false
        },
        "nteract": {
          "transient": {
            "deleting": false
          }
        },
        "execution": {
          "iopub.status.busy": "2020-10-02T01:12:53.527Z",
          "iopub.execute_input": "2020-10-02T01:12:53.550Z",
          "iopub.status.idle": "2020-10-02T01:13:00.155Z",
          "shell.execute_reply": "2020-10-02T01:13:00.192Z"
        }
      }
    },
    {
      "cell_type": "markdown",
      "source": [
        "Ahora hagamos un ejemplo para distintos posibles valores de una variable, por ejemplo el día de la semana 📅. Podemos asignar un valor a cada día de la semana y mostrar qué actividad está en nuestra agenda para ese día en particular. ¿Será que Python puede saber el día de la semana en que estamos? ¡Vamos a averiguarlo!"
      ],
      "metadata": {
        "nteract": {
          "transient": {
            "deleting": false
          }
        }
      }
    },
    {
      "cell_type": "code",
      "source": [
        "'''\n",
        "script en Python que tome el día de la semana\n",
        "y muestre un mensaje personalizado para cada\n",
        "uno de los días.\n",
        "'''\n",
        "#El módulo time nos permite acceder a la información de la fecha actual.\n",
        "import time\n",
        "\n",
        "'''\n",
        "Constantes para cada día. En el modulo time el lunes es \n",
        "el día 0 de la semana y el domingo el día 6.\n",
        "'''\n",
        "LUNES = 0\n",
        "MARTES = 1\n",
        "MIERCOLES = 2\n",
        "JUEVES = 3\n",
        "VIERNES = 4\n",
        "SABADO = 5\n",
        "\n",
        "#La siguiente instrucción consulta el día de la semana marcado en la computadora.\n",
        "dia_semana = time.localtime().tm_wday\n",
        "\n",
        "if dia_semana == LUNES:\n",
        "    print('Lunes... ¿Quién inventó los Lunes?')\n",
        "elif dia_semana == MARTES:\n",
        "    print('Martes de museos... virtuales.')\n",
        "elif dia_semana == MIERCOLES:\n",
        "    print('Miércoles de ceniza.')\n",
        "elif dia_semana == JUEVES:\n",
        "    print('Jueves de teatro... en casa.')\n",
        "elif dia_semana == VIERNES:\n",
        "    print('Viernes de aprender Python.')\n",
        "elif dia_semana == SABADO:\n",
        "    print('Sábado reponer horas de sueño.')\n",
        "else:\n",
        "    print('Domingo de tomar valor para una semana más.')"
      ],
      "outputs": [],
      "execution_count": null,
      "metadata": {
        "collapsed": true,
        "jupyter": {
          "source_hidden": false,
          "outputs_hidden": false
        },
        "nteract": {
          "transient": {
            "deleting": false
          }
        },
        "execution": {
          "iopub.status.busy": "2020-10-02T01:30:52.110Z",
          "iopub.execute_input": "2020-10-02T01:30:52.147Z",
          "iopub.status.idle": "2020-10-02T01:30:52.237Z",
          "shell.execute_reply": "2020-10-02T01:30:52.258Z"
        }
      }
    },
    {
      "cell_type": "markdown",
      "source": [
        "Un uso muy común de la estructura selectiva múltiple es la creación de menús. Para ello tendremos una variable que representa la elección del usuario y según lo que haya seleccionado podremos realizar la acción correspondiente a esa opción.\n",
        "\n",
        "Haremos un script que nos permita seleccionar entre imagenes de distintas mascotas y según nuestra elección se abrirá el navegador web con la búsqueda correspondiente."
      ],
      "metadata": {
        "nteract": {
          "transient": {
            "deleting": false
          }
        }
      }
    },
    {
      "cell_type": "code",
      "source": [
        "'''\n",
        "script en Python que muestre un menú con las\n",
        "siguientes opciones\n",
        "\n",
        "1) Perros\n",
        "2) Gatos\n",
        "3) Conejos\n",
        "4) Tortugas\n",
        "\n",
        "El usuario deberá seleccionar alguna de las\n",
        "opciones y el script abrirá una página web\n",
        "con contenido relacionado a la opción elegida.\n",
        "'''\n",
        "#El módulo webbrowser nos permite abrir el navegador desde Python :V\n",
        "import webbrowser\n",
        "\n",
        "#Constantes para nuestras opciones\n",
        "PERROS = 1\n",
        "GATOS = 2\n",
        "CONEJOS = 3\n",
        "TORTUGAS = 4\n",
        "\n",
        "#Mostramos el menú entre comillas triples para que muestre los saltos de línea.\n",
        "print(f'''Mascotas\n",
        "{PERROS}) Perros\n",
        "{GATOS}) Gatos\n",
        "{CONEJOS}) Conejos\n",
        "{TORTUGAS}) Torturas''')\n",
        "\n",
        "#Solicitamos la opción al usuario.\n",
        "opc = int(input('¿Qué mascotas quieres ver? '))\n",
        "#Evaluamos la opción con la estructura selectiva multiple.\n",
        "if opc == PERROS:\n",
        "    webbrowser.open('https://duckduckgo.com/?q=perro+mascota&t=ffab&iar=images&iax=images&ia=images')\n",
        "elif opc == GATOS:\n",
        "    webbrowser.open('https://duckduckgo.com/?q=gato+mascota&t=ffab&iar=images&iax=images&ia=images')\n",
        "elif opc == CONEJOS:\n",
        "    webbrowser.open('https://duckduckgo.com/?q=conejo+mascota&t=ffab&iar=images&iax=images&ia=images')\n",
        "elif opc == TORTUGAS:\n",
        "    webbrowser.open('https://duckduckgo.com/?q=tortuga+mascota&t=ffab&iar=images&iax=images&ia=images')\n",
        "else:\n",
        "    print('Opción no válida.')"
      ],
      "outputs": [],
      "execution_count": null,
      "metadata": {
        "collapsed": true,
        "jupyter": {
          "source_hidden": false,
          "outputs_hidden": false
        },
        "nteract": {
          "transient": {
            "deleting": false
          }
        },
        "execution": {
          "iopub.status.busy": "2020-10-02T01:53:29.256Z",
          "iopub.execute_input": "2020-10-02T01:53:29.287Z",
          "iopub.status.idle": "2020-10-02T01:53:38.392Z",
          "shell.execute_reply": "2020-10-02T01:53:38.412Z"
        }
      }
    },
    {
      "cell_type": "markdown",
      "source": [
        "Aquí tienes el <a href=\"https://drive.google.com/file/d/1qUS3USgRnjSvlQI54dpHC1q-JzEpudlI/view?usp=sharing\">enlace </a> con los scripts correspondientes a este cuaderno. Puede abrirlos en tu editor y tratar de correrlos ahí también."
      ],
      "metadata": {
        "nteract": {
          "transient": {
            "deleting": false
          }
        }
      }
    }
  ],
  "metadata": {
    "kernel_info": {
      "name": "venv"
    },
    "language_info": {
      "name": "python",
      "version": "3.7.3",
      "mimetype": "text/x-python",
      "codemirror_mode": {
        "name": "ipython",
        "version": 3
      },
      "pygments_lexer": "ipython3",
      "nbconvert_exporter": "python",
      "file_extension": ".py"
    },
    "kernelspec": {
      "argv": [
        "/home/fel/Documents/Profesor/nteract/venv/bin/python",
        "-m",
        "ipykernel_launcher",
        "-f",
        "{connection_file}"
      ],
      "display_name": "venv",
      "language": "python",
      "name": "venv"
    },
    "nteract": {
      "version": "0.25.1"
    }
  },
  "nbformat": 4,
  "nbformat_minor": 0
}