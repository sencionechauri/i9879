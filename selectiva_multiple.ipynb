{
  "cells": [
    {
      "cell_type": "markdown",
      "source": [
        "# <center>Estructura Selectiva Multiple (if-elif-else)</center>"
      ],
      "metadata": {
        "nteract": {
          "transient": {
            "deleting": false
          }
        }
      }
    },
    {
      "cell_type": "markdown",
      "source": [
        "Ejecuta determinada acción dependiendo del valor de una variable de decisión, la selección si, sino si (if-elif-else) evalúa la variable y:\n",
        "\n",
        "\n",
        "* Si coincide con un caso ejecuta dicha acción.\n",
        "* Si no coincide con ningún caso ejecuta una acción por defecto."
      ],
      "metadata": {
        "nteract": {
          "transient": {
            "deleting": false
          }
        }
      }
    },
    {
      "cell_type": "markdown",
      "source": [
        "## <center>Patrón</center>\n",
        "\n",
        "```\n",
        "if <condición1>:\n",
        "    <instrucciones>\n",
        "elif <condición2>:\n",
        "    <instrucciones>\n",
        "elif <condición3>:\n",
        "    <instrucciones>\n",
        ". . . .\n",
        "else:\n",
        "    <instrucciones>\n",
        "```\n",
        "\n"
      ],
      "metadata": {
        "nteract": {
          "transient": {
            "deleting": false
          }
        }
      }
    },
    {
      "cell_type": "markdown",
      "source": [
        "La estructura selectiva múltiple es de utilidad cuando tenemos distintas situaciones concretas que necesitamos evaluar o distintos valores conocidos que puede tomar una variable."
      ],
      "metadata": {
        "nteract": {
          "transient": {
            "deleting": false
          }
        }
      }
    },
    {
      "cell_type": "markdown",
      "source": [
        "## <center>Ejemplos</center>"
      ],
      "metadata": {
        "nteract": {
          "transient": {
            "deleting": false
          }
        }
      }
    },
    {
      "cell_type": "markdown",
      "source": [
        "Comencemos con un script en el cual se evalúen las distintas combinaciones para dos variables distintas. En este caso podemos tener cuatro posibilidades y queremos que para cada una de ellas se muestre un mensaje particular.\n",
        "\n",
        "¡Has pruebas con distintas combinaciones!"
      ],
      "metadata": {
        "nteract": {
          "transient": {
            "deleting": false
          }
        }
      }
    },
    {
      "cell_type": "code",
      "source": [
        "'''\n",
        "script en Python que solicite la calificación y\n",
        "porcentaje de asistencias de un alumno. Si la\n",
        "calificación es mayor o igual que 60 y el porcentaje de asistencias es mayor o igual a 80 entonces indicarle que\n",
        "aprobó el curso, en caso de no haber aprobado\n",
        "indicarle en qué falló.\n",
        "'''\n",
        "#Constantes de nuestro programa\n",
        "MIN_CAL = 60\n",
        "MIN_ASIS = 80\n",
        "\n",
        "calif = int(input('Calificación: '))\n",
        "asis = int(input('Porcentaje de asistencias: '))\n",
        "\n",
        "if calif >= MIN_CAL and asis >= MIN_ASIS:\n",
        "    print('¡Aprobado! Muy bien.')\n",
        "elif calif < MIN_CAL and asis >= MIN_ASIS:\n",
        "    print('Lo siento no tienes los puntos suficientes.')\n",
        "elif calif >= MIN_CAL and asis < MIN_ASIS:\n",
        "    print('Lo siento no tienes las asistencias suficientes.')\n",
        "else:\n",
        "    print('Te faltaron tanto puntos como aistencias')"
      ],
      "outputs": [
        {
          "output_type": "stream",
          "name": "stdout",
          "text": [
            "Te faltaron tanto puntos como aistencias\n"
          ]
        }
      ],
      "execution_count": 3,
      "metadata": {
        "collapsed": true,
        "jupyter": {
          "source_hidden": false,
          "outputs_hidden": false
        },
        "nteract": {
          "transient": {
            "deleting": false
          }
        },
        "execution": {
          "iopub.status.busy": "2020-10-02T01:12:53.527Z",
          "iopub.execute_input": "2020-10-02T01:12:53.550Z",
          "iopub.status.idle": "2020-10-02T01:13:00.155Z",
          "shell.execute_reply": "2020-10-02T01:13:00.192Z"
        }
      }
    },
    {
      "cell_type": "markdown",
      "source": [
        "Ahora hagamos un ejemplo para distintos posibles valores de una variable, por ejemplo el día de la semana 📅. Podemos asignar un valor a cada día de la semana y mostrar qué actividad está en nuestra agenda para ese día en particular. ¿Será que Python puede saber el día de la semana en que estamos? ¡Vamos a averiguarlo!"
      ],
      "metadata": {
        "nteract": {
          "transient": {
            "deleting": false
          }
        }
      }
    },
    {
      "cell_type": "code",
      "source": [
        "'''\n",
        "script en Python que tome el día de la semana\n",
        "y muestre un mensaje personalizado para cada\n",
        "uno de los días.\n",
        "'''\n",
        "#El módulo time nos permite acceder a la información de la fecha actual.\n",
        "import time\n",
        "\n",
        "'''\n",
        "Constantes para cada día. En el modulo time el lunes es \n",
        "el día 0 de la semana y el domingo el día 6.\n",
        "'''\n",
        "LUNES = 0\n",
        "MARTES = 1\n",
        "MIERCOLES = 2\n",
        "JUEVES = 3\n",
        "VIERNES = 4\n",
        "SABADO = 5\n",
        "\n",
        "#La siguiente instrucción consulta el día de la semana marcado en la computadora.\n",
        "dia_semana = time.localtime().tm_wday\n",
        "\n",
        "if dia_semana == LUNES:\n",
        "    print('Lunes... ¿Quién inventó los Lunes?')\n",
        "elif dia_semana == MARTES:\n",
        "    print('Martes de museos... virtuales.')\n",
        "elif dia_semana == MIERCOLES:\n",
        "    print('Miércoles de ceniza.')\n",
        "elif dia_semana == JUEVES:\n",
        "    print('Jueves de teatro... en casa.')\n",
        "elif dia_semana == VIERNES:\n",
        "    print('Viernes de aprender Python.')\n",
        "elif dia_semana == SABADO:\n",
        "    print('Sábado reponer horas de sueño.')\n",
        "else:\n",
        "    print('Domingo de tomar valor para una semana más.')"
      ],
      "outputs": [
        {
          "output_type": "stream",
          "name": "stdout",
          "text": [
            "Jueves de teatro... en casa.\n"
          ]
        }
      ],
      "execution_count": 4,
      "metadata": {
        "collapsed": true,
        "jupyter": {
          "source_hidden": false,
          "outputs_hidden": false
        },
        "nteract": {
          "transient": {
            "deleting": false
          }
        },
        "execution": {
          "iopub.status.busy": "2020-10-02T01:30:52.110Z",
          "iopub.execute_input": "2020-10-02T01:30:52.147Z",
          "iopub.status.idle": "2020-10-02T01:30:52.237Z",
          "shell.execute_reply": "2020-10-02T01:30:52.258Z"
        }
      }
    },
    {
      "cell_type": "markdown",
      "source": [
        "Un uso muy común de la estructura selectiva múltiple es la creación de menús. Para ello tendremos una variable que representa la elección del usuario y según lo que haya seleccionado podremos realizar la acción correspondiente a esa opción.\n",
        "\n",
        "Haremos un script que nos permita seleccionar entre imagenes de distintas mascotas y según nuestra elección se abrirá el navegador web con la búsqueda correspondiente."
      ],
      "metadata": {
        "nteract": {
          "transient": {
            "deleting": false
          }
        }
      }
    },
    {
      "cell_type": "code",
      "source": [
        "#script en Python que solicite la calificación y promedio de asistencias de un alumno y si la calificación es mayor o igual que 60 y el porcentaje de asistencias es mayor o igual que 80 le indique que aprobó el curso.\n",
        "\n",
        "calificacion = int(input('¿Cuál es tu calificación? '))\n",
        "asistencias = int(input('¿Cuál es tu porcentaje de asistencias? '))\n",
        "\n",
        "if calificacion >= 60 and asistencias >= 80:\n",
        "    print('Felicidades ya la libraste')\n",
        "    if calificacion >= 95:\n",
        "        #Podemos utilizar una estructura if dentro de otra estructura if\n",
        "        print('Estudiante sobresaliente. Pídele beca a AMLO')\n",
        "\n",
        "print('Gracias por utilizar este sofisticado programa')\n",
        "input('Presiona enter para continuar...')"
      ],
      "outputs": [],
      "execution_count": null,
      "metadata": {
        "collapsed": true,
        "jupyter": {
          "source_hidden": false,
          "outputs_hidden": false
        },
        "nteract": {
          "transient": {
            "deleting": false
          }
        },
        "execution": {
          "iopub.status.busy": "2020-09-25T04:39:12.385Z",
          "iopub.execute_input": "2020-09-25T04:39:12.417Z",
          "iopub.status.idle": "2020-09-25T04:39:26.083Z",
          "shell.execute_reply": "2020-09-25T04:39:26.137Z"
        }
      }
    },
    {
      "cell_type": "code",
      "source": [
        "#script que solicite al usuario la temperatura actual. Si la temperatura está entre 18 y 27 grados le indique que el clima es agradable.\n",
        "\n",
        "temperatura = int(input('¿Cuántos grados indica el termómetro? '))\n",
        "\n",
        "if 18 <= temperatura <= 27:\n",
        "    print('Clima agradable, no cargues el suéter')\n",
        "\n",
        "print('Disfruta tu día. y aguas con el coronavirus :V')\n",
        "input('Presiona enter para continuar...') "
      ],
      "outputs": [],
      "execution_count": null,
      "metadata": {
        "collapsed": true,
        "jupyter": {
          "source_hidden": false,
          "outputs_hidden": false
        },
        "nteract": {
          "transient": {
            "deleting": false
          }
        },
        "execution": {
          "iopub.status.busy": "2020-09-25T04:42:07.139Z",
          "iopub.execute_input": "2020-09-25T04:42:07.164Z",
          "iopub.status.idle": "2020-09-25T04:42:12.638Z",
          "shell.execute_reply": "2020-09-25T04:42:12.675Z"
        }
      }
    },
    {
      "cell_type": "code",
      "source": [
        "#script que simule la temperatura actual con un número aleatorio y si la temperatura está entre 18 y 27 grados le indique\n",
        "#que el clima es agradable; si es menor que 18 le indique que hace frío y si es mayor que 27 le diga que hace calor.\n",
        "\n",
        "#Importamos el módulo llamado random que nos permita generar números aleatorios\n",
        "import random\n",
        "\n",
        "#randint permite generar números enteros aleatorios y entre paréntesis escribimos el menor y mayor número posible que queremos \n",
        "#que pueda generar, o sea el rango.\n",
        "temperatura = random.randint(0, 45)\n",
        "\n",
        "print(f'La temperatura es {temperatura}°')\n",
        "\n",
        "if 18 <= temperatura <= 27:\n",
        "    print('Clima agradable, no cargues el suéter')\n",
        "if temperatura < 18:\n",
        "    print('Hace frío, lleva una sudadera')\n",
        "if temperatura > 27:\n",
        "    print('Hace calor, lleva ropa ligera')\n",
        "\n",
        "print('Disfruta tu día')\n",
        "input('Presiona enter para continuar...')"
      ],
      "outputs": [],
      "execution_count": null,
      "metadata": {
        "collapsed": true,
        "jupyter": {
          "source_hidden": false,
          "outputs_hidden": false
        },
        "nteract": {
          "transient": {
            "deleting": false
          }
        },
        "execution": {
          "iopub.status.busy": "2020-09-25T04:48:48.761Z",
          "iopub.execute_input": "2020-09-25T04:48:48.797Z",
          "iopub.status.idle": "2020-09-25T04:48:47.221Z",
          "shell.execute_reply": "2020-09-25T04:48:47.274Z"
        }
      }
    },
    {
      "cell_type": "markdown",
      "source": [
        "En el siguiente <a href=\"https://drive.google.com/file/d/13f47gglqjvc4dCB4kU1w_XhcOtCihH44/view?usp=sharing\">enlace </a> encontrarás los scripts correspondientes a este cuaderno. Puede abrirlos en tu editor y tratar de correrlos ahí también."
      ],
      "metadata": {
        "nteract": {
          "transient": {
            "deleting": false
          }
        }
      }
    }
  ],
  "metadata": {
    "kernel_info": {
      "name": "venv"
    },
    "language_info": {
      "name": "python",
      "version": "3.7.3",
      "mimetype": "text/x-python",
      "codemirror_mode": {
        "name": "ipython",
        "version": 3
      },
      "pygments_lexer": "ipython3",
      "nbconvert_exporter": "python",
      "file_extension": ".py"
    },
    "kernelspec": {
      "argv": [
        "/home/fel/Documents/Profesor/nteract/venv/bin/python",
        "-m",
        "ipykernel_launcher",
        "-f",
        "{connection_file}"
      ],
      "display_name": "venv",
      "language": "python",
      "name": "venv"
    },
    "nteract": {
      "version": "0.25.1"
    }
  },
  "nbformat": 4,
  "nbformat_minor": 0
}