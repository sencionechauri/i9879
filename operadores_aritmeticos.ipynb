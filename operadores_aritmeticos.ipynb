{
  "cells": [
    {
      "cell_type": "markdown",
      "source": [
        "# <center>Operadores Aritméticos</center>"
      ],
      "metadata": {
        "nteract": {
          "transient": {
            "deleting": false
          }
        }
      }
    },
    {
      "cell_type": "markdown",
      "source": [
        "Un elemento fundamental de cualquier lenguaje de programación es la capacidad de realizar operaciones aritméticas, de hecho el origen de la palabra cómputo está relacionado con realizar cálculos. En este notebook revisaremos los operdores aritméticos en Python y mostraremos algunos ejemplos de uso."
      ],
      "metadata": {
        "nteract": {
          "transient": {
            "deleting": false
          }
        }
      }
    },
    {
      "cell_type": "markdown",
      "source": [
        "## <center>Operadores</center>\n",
        "\n",
        "Operador | Operación\n",
        "--- | ---\n",
        "+ | Suma\n",
        "- | Resta\n",
        "\\* | Multiplicación\n",
        "/ | División\n",
        "// | División entera\n",
        "% | Módulo\n",
        "\\*\\* | Potencia\n",
        "\n",
        "**Nota**: Se pueden agrupar expresiones utilizando paréntesis en caso de necesitar modificar la prioridad de las operaciones"
      ],
      "metadata": {
        "nteract": {
          "transient": {
            "deleting": false
          }
        }
      }
    },
    {
      "cell_type": "markdown",
      "source": [
        "## <center>Suma</center>"
      ],
      "metadata": {
        "nteract": {
          "transient": {
            "deleting": false
          }
        }
      }
    },
    {
      "cell_type": "code",
      "source": [
        "print(f'3 + 5 = {3+5}')\n",
        "print(f'2 + 3.3 = {2 + 3.3}')\n",
        "print(f'-3 + -7 = {-3 + -7}')\n",
        "var_1 = 33\n",
        "var_2 = 44\n",
        "suma = var_1 + var_2\n",
        "print(f'{var_1} + {var_2} = {suma}')"
      ],
      "outputs": [],
      "execution_count": null,
      "metadata": {
        "collapsed": true,
        "jupyter": {
          "source_hidden": false,
          "outputs_hidden": false
        },
        "nteract": {
          "transient": {
            "deleting": false
          }
        },
        "execution": {
          "iopub.status.busy": "2020-09-18T06:04:59.092Z",
          "iopub.execute_input": "2020-09-18T06:04:59.109Z",
          "iopub.status.idle": "2020-09-18T06:04:59.169Z",
          "shell.execute_reply": "2020-09-18T06:04:59.193Z"
        }
      }
    },
    {
      "cell_type": "code",
      "source": [
        "# Tu turno\n",
        "n_1 = # solicita un valor de entrada\n",
        "n_1 = # convierte el valor a entero o flotante\n",
        "n_2 = # solicita otro valor de entrada\n",
        "n_2 = # convierte el valor a entero o flotante\n",
        "#calcula la suma y guárdala en una variable\n",
        "print(f'') # muestra la suma resultante"
      ],
      "outputs": [],
      "execution_count": null,
      "metadata": {
        "collapsed": true,
        "jupyter": {
          "source_hidden": false,
          "outputs_hidden": false
        },
        "nteract": {
          "transient": {
            "deleting": false
          }
        }
      }
    },
    {
      "cell_type": "markdown",
      "source": [
        "## <center>Resta</center>"
      ],
      "metadata": {
        "nteract": {
          "transient": {
            "deleting": false
          }
        }
      }
    },
    {
      "cell_type": "code",
      "source": [
        "print(f'3 - 5 = {3-5}')\n",
        "print(f'2 - 3.3 = {2 - 3.3}')\n",
        "print(f'-3 - -7 = {-3 - -7}')\n",
        "var_1 = 44\n",
        "var_2 = 33\n",
        "resta = var_1 - var_2\n",
        "print(f'{var_1} - {var_2} = {resta}')"
      ],
      "outputs": [],
      "execution_count": null,
      "metadata": {
        "collapsed": true,
        "jupyter": {
          "source_hidden": false,
          "outputs_hidden": false
        },
        "nteract": {
          "transient": {
            "deleting": false
          }
        },
        "execution": {
          "iopub.status.busy": "2020-09-18T06:17:06.817Z",
          "iopub.execute_input": "2020-09-18T06:17:06.850Z",
          "iopub.status.idle": "2020-09-18T06:17:06.917Z",
          "shell.execute_reply": "2020-09-18T06:17:06.934Z"
        }
      }
    },
    {
      "cell_type": "code",
      "source": [
        "# Tu turno\n",
        "n_1 = # solicita un valor de entrada\n",
        "n_1 = # convierte el valor a entero o flotante\n",
        "n_2 = # solicita otro valor de entrada\n",
        "n_2 = # convierte el valor a entero o flotante\n",
        "#calcula la resta y guárdala en una variable\n",
        "print(f'') # muestra la resta resultante"
      ],
      "outputs": [],
      "execution_count": null,
      "metadata": {
        "collapsed": true,
        "jupyter": {
          "source_hidden": false,
          "outputs_hidden": false
        },
        "nteract": {
          "transient": {
            "deleting": false
          }
        }
      }
    },
    {
      "cell_type": "markdown",
      "source": [
        "## <center>Multiplicación</center>"
      ],
      "metadata": {
        "nteract": {
          "transient": {
            "deleting": false
          }
        }
      }
    },
    {
      "cell_type": "code",
      "source": [
        "print(f'3 * 5 = {3*5}')\n",
        "print(f'2 * 3.3 = {2 * 3.3}')\n",
        "print(f'-3 * -7 = {-3 * -7}')\n",
        "print(f'5 * (6 + 1) - 2 = {5 * (6 + 1) - 2}') #Podemos agrupar expresiones para modificar la prioridad de operadores\n",
        "var_1 = 33\n",
        "var_2 = 44\n",
        "multiplicacion = var_1 * var_2\n",
        "print(f'{var_1} * {var_2} = {multiplicacion}')"
      ],
      "outputs": [],
      "execution_count": null,
      "metadata": {
        "collapsed": true,
        "jupyter": {
          "source_hidden": false,
          "outputs_hidden": false
        },
        "nteract": {
          "transient": {
            "deleting": false
          }
        },
        "execution": {
          "iopub.status.busy": "2020-09-18T06:26:33.550Z",
          "iopub.execute_input": "2020-09-18T06:26:33.581Z",
          "iopub.status.idle": "2020-09-18T06:26:33.668Z",
          "shell.execute_reply": "2020-09-18T06:26:33.706Z"
        }
      }
    },
    {
      "cell_type": "markdown",
      "source": [
        "## <center>División</center>"
      ],
      "metadata": {
        "nteract": {
          "transient": {
            "deleting": false
          }
        }
      }
    },
    {
      "cell_type": "code",
      "source": [
        "print(f'3 / 5 = {3 / 5}')\n",
        "print(f'2 / 3.3 = {2 / 3.3}')\n",
        "print(f'2 / 3.3 = {2 / 3.3 :.2f}') #Si queremos podemos limitar la cantidad de cifras decimales a un valor específico\n",
        "print(f'-3 / -7 = {-3 / -7}')\n",
        "print(f'5 / (6 + 1) - 2 = {5 / (6 + 1) - 2}') #Podemos agrupar expresiones para modificar la prioridad de operadores\n",
        "var_1 = 33\n",
        "var_2 = 44\n",
        "division = var_1 / var_2\n",
        "print(f'{var_1} / {var_2} = {division}')"
      ],
      "outputs": [],
      "execution_count": null,
      "metadata": {
        "collapsed": true,
        "jupyter": {
          "source_hidden": false,
          "outputs_hidden": false
        },
        "nteract": {
          "transient": {
            "deleting": false
          }
        },
        "execution": {
          "iopub.status.busy": "2020-09-18T06:33:21.715Z",
          "iopub.execute_input": "2020-09-18T06:33:21.753Z",
          "iopub.status.idle": "2020-09-18T06:33:21.836Z",
          "shell.execute_reply": "2020-09-18T06:33:21.875Z"
        }
      }
    },
    {
      "cell_type": "markdown",
      "source": [
        "## <center>División Entera</center>\n",
        "\n",
        "El resultado es solamente la parte entera de una división."
      ],
      "metadata": {
        "nteract": {
          "transient": {
            "deleting": false
          }
        }
      }
    },
    {
      "cell_type": "code",
      "source": [
        "print(f'33 // 5 = {33 // 5}')\n",
        "print(f'22 // 3.3 = {22 // 3.3}')\n",
        "print(f'-3 // -7 = {-3 // -7}')\n",
        "print(f'5 // (6 + 1) - 2 = {5 // (6 + 1) - 2}') #Podemos agrupar expresiones para modificar la prioridad de operadores\n",
        "var_1 = 44\n",
        "var_2 = 33\n",
        "division_entera = var_1 // var_2\n",
        "print(f'{var_1} // {var_2} = {division_entera}')"
      ],
      "outputs": [],
      "execution_count": null,
      "metadata": {
        "collapsed": true,
        "jupyter": {
          "source_hidden": false,
          "outputs_hidden": false
        },
        "nteract": {
          "transient": {
            "deleting": false
          }
        },
        "execution": {
          "iopub.status.busy": "2020-09-18T06:37:06.300Z",
          "iopub.execute_input": "2020-09-18T06:37:06.342Z",
          "iopub.status.idle": "2020-09-18T06:37:06.439Z",
          "shell.execute_reply": "2020-09-18T06:37:06.470Z"
        }
      }
    },
    {
      "cell_type": "markdown",
      "source": [
        "## <center>Módulo</center>\n",
        "\n",
        "Es el residuo de una división."
      ],
      "metadata": {
        "nteract": {
          "transient": {
            "deleting": false
          }
        }
      }
    },
    {
      "cell_type": "code",
      "source": [
        "print(f'33 % 5 = {33 % 5}')\n",
        "print(f'22 % 3.3 = {22 % 3.3}')\n",
        "print(f'-3 % -7 = {-3 % -7}')\n",
        "print(f'5 % (6 + 1) - 2 = {5 % (6 + 1) - 2}') #Podemos agrupar expresiones para modificar la prioridad de operadores\n",
        "var_1 = 44\n",
        "var_2 = 33\n",
        "modulo = var_1 % var_2\n",
        "print(f'{var_1} % {var_2} = {modulo}')"
      ],
      "outputs": [],
      "execution_count": null,
      "metadata": {
        "collapsed": true,
        "jupyter": {
          "source_hidden": false,
          "outputs_hidden": false
        },
        "nteract": {
          "transient": {
            "deleting": false
          }
        },
        "execution": {
          "iopub.status.busy": "2020-09-18T06:45:18.972Z",
          "iopub.execute_input": "2020-09-18T06:45:19.020Z",
          "iopub.status.idle": "2020-09-18T06:45:19.087Z",
          "shell.execute_reply": "2020-09-18T06:45:19.134Z"
        }
      }
    },
    {
      "cell_type": "markdown",
      "source": [
        "## <center>Potencia</center>"
      ],
      "metadata": {
        "nteract": {
          "transient": {
            "deleting": false
          }
        }
      }
    },
    {
      "cell_type": "code",
      "source": [
        "print(f'2 ** 3 = {2 ** 3}')\n",
        "print(f'25 ** (1/2) = {25 ** (1/2)}')\n",
        "var_1 = 4\n",
        "var_2 = 2\n",
        "potencia = var_1 ** var_2\n",
        "print(f'{var_1} ** {var_2} = {potencia}')"
      ],
      "outputs": [],
      "execution_count": null,
      "metadata": {
        "collapsed": true,
        "jupyter": {
          "source_hidden": false,
          "outputs_hidden": false
        },
        "nteract": {
          "transient": {
            "deleting": false
          }
        },
        "execution": {
          "iopub.status.busy": "2020-09-18T06:53:29.046Z",
          "iopub.execute_input": "2020-09-18T06:53:29.089Z",
          "iopub.status.idle": "2020-09-18T06:53:29.199Z",
          "shell.execute_reply": "2020-09-18T06:53:29.254Z"
        }
      }
    },
    {
      "cell_type": "markdown",
      "source": [
        "## <center>Operaciones Aritméticas con Cadenas</center>\n",
        "\n",
        "Python soporta sumas de cadenas (**concatenaciones**) y multiplicación de una cadena por un entero.\n",
        "\n",
        "En una concatenación las dos cadenas se unen para formar una.\n",
        "Si multiplicamos una cadena por un entero, la cadena se replica y concatena la cantidad de veces indicada por el entero."
      ],
      "metadata": {
        "nteract": {
          "transient": {
            "deleting": false
          }
        }
      }
    },
    {
      "cell_type": "code",
      "source": [
        "print('Hola' + 'mundo')\n",
        "print('Hola' * 5)"
      ],
      "outputs": [],
      "execution_count": null,
      "metadata": {
        "collapsed": true,
        "jupyter": {
          "source_hidden": false,
          "outputs_hidden": false
        },
        "nteract": {
          "transient": {
            "deleting": false
          }
        },
        "execution": {
          "iopub.status.busy": "2020-09-18T07:03:08.091Z",
          "iopub.execute_input": "2020-09-18T07:03:08.126Z",
          "iopub.status.idle": "2020-09-18T07:03:08.252Z",
          "shell.execute_reply": "2020-09-18T07:03:08.311Z"
        }
      }
    }
  ],
  "metadata": {
    "kernel_info": {
      "name": "venv"
    },
    "language_info": {
      "name": "python",
      "version": "3.7.3",
      "mimetype": "text/x-python",
      "codemirror_mode": {
        "name": "ipython",
        "version": 3
      },
      "pygments_lexer": "ipython3",
      "nbconvert_exporter": "python",
      "file_extension": ".py"
    },
    "kernelspec": {
      "argv": [
        "/home/fel/Documents/Profesor/nteract/venv/bin/python",
        "-m",
        "ipykernel_launcher",
        "-f",
        "{connection_file}"
      ],
      "display_name": "venv",
      "language": "python",
      "name": "venv"
    },
    "nteract": {
      "version": "0.25.0"
    }
  },
  "nbformat": 4,
  "nbformat_minor": 0
}