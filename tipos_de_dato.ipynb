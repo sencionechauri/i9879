{
  "cells": [
    {
      "cell_type": "markdown",
      "source": [
        "## <center>Tipos de dato en Python</center>"
      ],
      "metadata": {
        "nteract": {
          "transient": {
            "deleting": false
          }
        }
      }
    },
    {
      "cell_type": "markdown",
      "source": [
        "Cuando comenzamos con el aprendizaje de un nuevo lenguaje de programación, es buena idea empezar por los tipos de dato de ese lenguaje. En este cuaderno revisaremos los más comunes en Python.\n",
        "\n",
        "Para facilitar la lectura del código te pondré comentarios en las celdas que contengan instrucciones ejecutables; los comentarios de una sola líne en Python se escriben con el numeral o hash #. La siguiente celda de código tiene comentarios, dale click, presiona el botón Run y comprueba que no muestra nada como resultado."
      ],
      "metadata": {
        "nteract": {
          "transient": {
            "deleting": false
          }
        }
      }
    },
    {
      "cell_type": "code",
      "source": [
        "#Esto es un comentario\n",
        "# este es otro comentario que no muestra nada como salida\n",
        "#Recuerda que los comentarios no se ejecutan, sólo son para que el usuario los lea."
      ],
      "outputs": [],
      "execution_count": null,
      "metadata": {
        "collapsed": true,
        "jupyter": {
          "source_hidden": false,
          "outputs_hidden": false
        },
        "nteract": {
          "transient": {
            "deleting": false
          }
        }
      }
    },
    {
      "cell_type": "markdown",
      "source": [
        "## <center>¿Qué son los tipos de dato?</center>\n",
        "\n",
        "En los lenguajes de programación es necesario poder representar información de manera que sea tratable por una computadora. El bloque constructor con el que podemos representar esa información es el **dato** y a su vez los datos tienen un tipo asociado; por ejemplo tal vez queremos representar una edad y para ello el dato debe ser un número entero o quizá necesitamos representar el nombre de una persona, en ese caso el dato debe contener una secuencia de símbolos del alfabeto. \n",
        "\n",
        "Cada dato tiene un tipo asociado según la naturaleza de la información que representa."
      ],
      "metadata": {
        "nteract": {
          "transient": {
            "deleting": false
          }
        }
      }
    },
    {
      "cell_type": "markdown",
      "source": [
        "## <center>Tipos Numéricos</center>\n",
        "\n",
        "Como su nombre lo indica, éstos tipos de dato representan valores escalares o medibles. Los tipos de datos específicos para representar valores numéricos en Python son **int** (entero) y **float** (real o de coma flotante). Al igual que en otros lenguajes de programación, en Python los valores escalares se representan a sí mismos como un dato... ¿Qué quiere decir eso? &#x1F928; quiere decir que un 3 representa el valor numérico 3, un 3.14 representan el valor numérico 3.14, etc. Resulta obvio,  sin embargo vale la pena mencionarlo porque luego intentan convencernos de cosas como *1 = 0* y a veces hasta lo logran &#x1F643;. <br>\n",
        "Veamos unos ejemplos (Recuerda presionar el botón Run en las celdas con código)."
      ],
      "metadata": {
        "nteract": {
          "transient": {
            "deleting": false
          }
        }
      }
    },
    {
      "cell_type": "code",
      "source": [
        "#Dato 3\n",
        "3\n",
        "#Preguntémos a Python de qué tipo es un 3\n",
        "type(3)"
      ],
      "outputs": [],
      "execution_count": null,
      "metadata": {
        "collapsed": true,
        "jupyter": {
          "source_hidden": false,
          "outputs_hidden": false
        },
        "nteract": {
          "transient": {
            "deleting": false
          }
        },
        "execution": {
          "iopub.status.busy": "2020-09-17T21:17:32.165Z",
          "iopub.execute_input": "2020-09-17T21:17:32.198Z",
          "iopub.status.idle": "2020-09-17T21:17:32.287Z",
          "shell.execute_reply": "2020-09-17T21:17:32.318Z"
        }
      }
    },
    {
      "cell_type": "code",
      "source": [
        "#Ahora probemos con un 3.14\n",
        "type(3.14)"
      ],
      "outputs": [],
      "execution_count": null,
      "metadata": {
        "collapsed": true,
        "jupyter": {
          "source_hidden": false,
          "outputs_hidden": false
        },
        "nteract": {
          "transient": {
            "deleting": false
          }
        },
        "execution": {
          "iopub.status.busy": "2020-09-17T21:18:20.722Z",
          "iopub.execute_input": "2020-09-17T21:18:20.744Z",
          "iopub.status.idle": "2020-09-17T21:18:20.807Z",
          "shell.execute_reply": "2020-09-17T21:18:20.829Z"
        }
      }
    },
    {
      "cell_type": "code",
      "source": [
        "#con notación extendida o notación científica\n",
        "type(3e-5)"
      ],
      "outputs": [],
      "execution_count": null,
      "metadata": {
        "collapsed": true,
        "jupyter": {
          "source_hidden": false,
          "outputs_hidden": false
        },
        "nteract": {
          "transient": {
            "deleting": false
          }
        },
        "execution": {
          "iopub.status.busy": "2020-09-17T21:21:27.816Z",
          "iopub.execute_input": "2020-09-17T21:21:27.854Z",
          "iopub.status.idle": "2020-09-17T21:21:27.931Z",
          "shell.execute_reply": "2020-09-17T21:21:27.967Z"
        }
      }
    },
    {
      "cell_type": "markdown",
      "source": [
        "## <center>Cadenas</center>\n",
        "\n",
        "En Python podemos representar palabras o *cadenas* de caracteres agrupándolas entre comillas dobles \" o comillas simples ' incluso es posible agrupar texto entre tres pares de comillas simples. Cualquier conjunto de símbolos que se agrupe entre comillas será interpretado como una cadena o **string**. A continuación unos ejemplos."
      ],
      "metadata": {
        "nteract": {
          "transient": {
            "deleting": false
          }
        }
      }
    },
    {
      "cell_type": "code",
      "source": [
        "'Esto es una cadena'"
      ],
      "outputs": [],
      "execution_count": null,
      "metadata": {
        "collapsed": true,
        "jupyter": {
          "source_hidden": false,
          "outputs_hidden": false
        },
        "nteract": {
          "transient": {
            "deleting": false
          }
        },
        "execution": {
          "iopub.status.busy": "2020-09-17T22:38:05.856Z",
          "iopub.execute_input": "2020-09-17T22:38:05.891Z",
          "iopub.status.idle": "2020-09-17T22:38:05.974Z",
          "shell.execute_reply": "2020-09-17T22:38:06.012Z"
        }
      }
    },
    {
      "cell_type": "code",
      "source": [
        "\"Esto es otra cadena\"\n",
        "#Nota como a pesar de estar agrupada entre comillas dobles, python lo muestra con comillas simples."
      ],
      "outputs": [],
      "execution_count": null,
      "metadata": {
        "collapsed": true,
        "jupyter": {
          "source_hidden": false,
          "outputs_hidden": false
        },
        "nteract": {
          "transient": {
            "deleting": false
          }
        },
        "execution": {
          "iopub.status.busy": "2020-09-17T22:38:54.447Z",
          "iopub.execute_input": "2020-09-17T22:38:54.482Z",
          "iopub.status.idle": "2020-09-17T22:38:54.560Z",
          "shell.execute_reply": "2020-09-17T22:38:54.595Z"
        }
      }
    },
    {
      "cell_type": "code",
      "source": [
        "'''Otra cadena usando tres comillas simples.'''"
      ],
      "outputs": [],
      "execution_count": null,
      "metadata": {
        "collapsed": true,
        "jupyter": {
          "source_hidden": false,
          "outputs_hidden": false
        },
        "nteract": {
          "transient": {
            "deleting": false
          }
        },
        "execution": {
          "iopub.status.busy": "2020-09-17T22:43:35.996Z",
          "iopub.execute_input": "2020-09-17T22:43:36.022Z",
          "iopub.status.idle": "2020-09-17T22:43:36.079Z",
          "shell.execute_reply": "2020-09-17T22:43:36.105Z"
        }
      }
    },
    {
      "cell_type": "code",
      "source": [
        "#Si una cantidad numérica está enmarcada entre comillas, se toma como una cadena y no como un valor numérico\n",
        "type('3')"
      ],
      "outputs": [],
      "execution_count": null,
      "metadata": {
        "collapsed": true,
        "jupyter": {
          "source_hidden": false,
          "outputs_hidden": false
        },
        "nteract": {
          "transient": {
            "deleting": false
          }
        },
        "execution": {
          "iopub.status.busy": "2020-09-17T22:44:36.640Z",
          "iopub.execute_input": "2020-09-17T22:44:36.684Z",
          "iopub.status.idle": "2020-09-17T22:44:36.787Z",
          "shell.execute_reply": "2020-09-17T22:44:36.830Z"
        }
      }
    },
    {
      "cell_type": "markdown",
      "source": [
        "## <center>Valores Lógicos</center>\n",
        "\n",
        "Existen dos valores lógicos de verdad: verdadero y falso. Dentro de Python dichos datos son representados por las palabras reservadas **True** y **False** y el tipo de dato asociado es llamado *bool*."
      ],
      "metadata": {
        "nteract": {
          "transient": {
            "deleting": false
          }
        }
      }
    },
    {
      "cell_type": "code",
      "source": [
        "type(True)"
      ],
      "outputs": [],
      "execution_count": null,
      "metadata": {
        "collapsed": true,
        "jupyter": {
          "source_hidden": false,
          "outputs_hidden": false
        },
        "nteract": {
          "transient": {
            "deleting": false
          }
        },
        "execution": {
          "iopub.status.busy": "2020-09-18T00:04:43.397Z",
          "iopub.execute_input": "2020-09-18T00:04:43.445Z",
          "iopub.status.idle": "2020-09-18T00:04:43.582Z",
          "shell.execute_reply": "2020-09-18T00:04:43.612Z"
        }
      }
    },
    {
      "cell_type": "markdown",
      "source": [
        "## <center>Colecciones</center>\n",
        "\n",
        "Python tiene muchos tipos de dato integrados como parte de su lenguaje y algunos de los más útiles son las colecciones de datos. De momento no entraremos mucho en datalles acerca de las colecciones, sin embargo vale la pena mencionarlas. Algunas colecciones comunes son:\n",
        "\n",
        "* lista\n",
        "* tupla\n",
        "* conjunto\n",
        "* diccionarios\n",
        "\n",
        "A continuación hay celdas con código que contienen algunas de las maneras en que se pueden declarar colecciones de datos en Python."
      ],
      "metadata": {
        "nteract": {
          "transient": {
            "deleting": false
          }
        }
      }
    },
    {
      "cell_type": "code",
      "source": [
        "# Una lista se declara con los elementos que contiene encerrados entre corchetes [] y separados por coma\n",
        "[1, 3, 5, 7]"
      ],
      "outputs": [],
      "execution_count": null,
      "metadata": {
        "collapsed": true,
        "jupyter": {
          "source_hidden": false,
          "outputs_hidden": false
        },
        "nteract": {
          "transient": {
            "deleting": false
          }
        },
        "execution": {
          "iopub.status.busy": "2020-09-17T22:51:56.010Z",
          "iopub.execute_input": "2020-09-17T22:51:56.047Z",
          "iopub.status.idle": "2020-09-17T22:51:56.146Z",
          "shell.execute_reply": "2020-09-17T22:51:56.194Z"
        }
      }
    },
    {
      "cell_type": "code",
      "source": [
        "# Una tupla se declara con los elementos que contiene enmarcados entre paréntesis () y separados por coma\n",
        "(1, 3.0, '5', 'siete')"
      ],
      "outputs": [],
      "execution_count": null,
      "metadata": {
        "collapsed": true,
        "jupyter": {
          "source_hidden": false,
          "outputs_hidden": false
        },
        "nteract": {
          "transient": {
            "deleting": false
          }
        },
        "execution": {
          "iopub.status.busy": "2020-09-17T22:53:40.654Z",
          "iopub.execute_input": "2020-09-17T22:53:40.692Z",
          "iopub.status.idle": "2020-09-17T22:53:40.798Z",
          "shell.execute_reply": "2020-09-17T22:53:40.836Z"
        }
      }
    },
    {
      "cell_type": "code",
      "source": [
        "# Un conjunto se escribe con los elementos que contiene agrupados entre llaves {} y separados por coma\n",
        "{2, 4, 6, 8}"
      ],
      "outputs": [],
      "execution_count": null,
      "metadata": {
        "collapsed": true,
        "jupyter": {
          "source_hidden": false,
          "outputs_hidden": false
        },
        "nteract": {
          "transient": {
            "deleting": false
          }
        },
        "execution": {
          "iopub.status.busy": "2020-09-17T22:55:25.772Z",
          "iopub.execute_input": "2020-09-17T22:55:25.805Z",
          "iopub.status.idle": "2020-09-17T22:55:25.897Z",
          "shell.execute_reply": "2020-09-17T22:55:25.933Z"
        }
      }
    },
    {
      "cell_type": "code",
      "source": [
        "# Un diccionario, también llamado hash se escribe entre llaves {} y cada elemento es un par de la forma llave : valor\n",
        "{1:'uno', 2:'two', 3:'drei'}"
      ],
      "outputs": [],
      "execution_count": null,
      "metadata": {
        "collapsed": true,
        "jupyter": {
          "source_hidden": false,
          "outputs_hidden": false
        },
        "nteract": {
          "transient": {
            "deleting": false
          }
        },
        "execution": {
          "iopub.status.busy": "2020-09-17T22:58:47.663Z",
          "iopub.execute_input": "2020-09-17T22:58:47.710Z",
          "iopub.status.idle": "2020-09-17T22:58:47.788Z",
          "shell.execute_reply": "2020-09-17T22:58:47.825Z"
        }
      }
    }
  ],
  "metadata": {
    "kernel_info": {
      "name": "python3"
    },
    "language_info": {
      "name": "python",
      "version": "3.7.3",
      "mimetype": "text/x-python",
      "codemirror_mode": {
        "name": "ipython",
        "version": 3
      },
      "pygments_lexer": "ipython3",
      "nbconvert_exporter": "python",
      "file_extension": ".py"
    },
    "kernelspec": {
      "argv": [
        "python",
        "-m",
        "ipykernel_launcher",
        "-f",
        "{connection_file}"
      ],
      "display_name": "Python 3",
      "language": "python",
      "name": "python3"
    },
    "nteract": {
      "version": "0.25.0"
    }
  },
  "nbformat": 4,
  "nbformat_minor": 0
}