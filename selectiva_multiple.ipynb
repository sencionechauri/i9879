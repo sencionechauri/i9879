{
  "cells": [
    {
      "cell_type": "markdown",
      "source": [
        "# <center>Estructura Selectiva Multiple (if-elif-else)</center>"
      ],
      "metadata": {
        "nteract": {
          "transient": {
            "deleting": false
          }
        }
      }
    },
    {
      "cell_type": "markdown",
      "source": [
        "Ejecuta determinada acción dependiendo del valor de una variable de decisión, la selección si, sino si (if-elif-else) evalúa la variable y:\n",
        "\n",
        "\n",
        "* Si coincide con un caso ejecuta dicha acción.\n",
        "* Si no coincide con ningún caso ejecuta una acción por defecto."
      ],
      "metadata": {
        "nteract": {
          "transient": {
            "deleting": false
          }
        }
      }
    },
    {
      "cell_type": "markdown",
      "source": [
        "## <center>Patrón</center>\n",
        "\n",
        "```\n",
        "if <condición1>:\n",
        "    <instrucciones>\n",
        "elif <condición2>:\n",
        "    <instrucciones>\n",
        "elif <condición3>:\n",
        "    <instrucciones>\n",
        ". . . .\n",
        "else:\n",
        "    <instrucciones>\n",
        "```\n",
        "\n"
      ],
      "metadata": {
        "nteract": {
          "transient": {
            "deleting": false
          }
        }
      }
    },
    {
      "cell_type": "markdown",
      "source": [
        "La estructura selectiva múltiple es de utilidad cuando tenemos distintas situaciones concretas que necesitamos evaluar o distintos valores conocidos que puede tomar una variable."
      ],
      "metadata": {
        "nteract": {
          "transient": {
            "deleting": false
          }
        }
      }
    },
    {
      "cell_type": "markdown",
      "source": [
        "## <center>Ejemplos</center>"
      ],
      "metadata": {
        "nteract": {
          "transient": {
            "deleting": false
          }
        }
      }
    },
    {
      "cell_type": "markdown",
      "source": [
        "Comencemos con un script en el cual se evalúen las distintas combinaciones para dos variables distintas. En este caso podemos tener cuatro posibilidades y queremos que para cada una de ellas se muestre un mensaje particular.\n",
        "\n",
        "¡Has pruebas con distintas combinaciones!"
      ],
      "metadata": {
        "nteract": {
          "transient": {
            "deleting": false
          }
        }
      }
    },
    {
      "cell_type": "code",
      "source": [
        "'''\n",
        "script en Python que solicite la calificación y\n",
        "porcentaje de asistencias de un alumno. Si la\n",
        "calificación es mayor o igual que 60 y el porcentaje de asistencias es mayor o igual a 80 entonces indicarle que\n",
        "aprobó el curso, en caso de no haber aprobado\n",
        "indicarle en qué falló.\n",
        "'''\n",
        "#Constantes de nuestro programa\n",
        "MIN_CAL = 60\n",
        "MIN_ASIS = 80\n",
        "\n",
        "calif = int(input('Calificación: '))\n",
        "asis = int(input('Porcentaje de asistencias: '))\n",
        "\n",
        "if calif >= MIN_CAL and asis >= MIN_ASIS:\n",
        "    print('¡Aprobado! Muy bien.')\n",
        "elif calif < MIN_CAL and asis >= MIN_ASIS:\n",
        "    print('Lo siento no tienes los puntos suficientes.')\n",
        "elif calif >= MIN_CAL and asis < MIN_ASIS:\n",
        "    print('Lo siento no tienes las asistencias suficientes.')\n",
        "else:\n",
        "    print('Te faltaron tanto puntos como aistencias')"
      ],
      "outputs": [],
      "execution_count": null,
      "metadata": {
        "collapsed": true,
        "jupyter": {
          "source_hidden": false,
          "outputs_hidden": false
        },
        "nteract": {
          "transient": {
            "deleting": false
          }
        },
        "execution": {
          "iopub.status.busy": "2020-10-02T01:12:53.527Z",
          "iopub.execute_input": "2020-10-02T01:12:53.550Z",
          "iopub.status.idle": "2020-10-02T01:13:00.155Z",
          "shell.execute_reply": "2020-10-02T01:13:00.192Z"
        }
      }
    },
    {
      "cell_type": "markdown",
      "source": [
        "Ahora hagamos un ejemplo para distintos posibles valores de una variable, por ejemplo el día de la semana 📅. Podemos asignar un valor a cada día de la semana y mostrar qué actividad está en nuestra agenda para ese día en particular. ¿Será que Python puede saber el día de la semana en que estamos? ¡Vamos a averiguarlo!"
      ],
      "metadata": {
        "nteract": {
          "transient": {
            "deleting": false
          }
        }
      }
    },
    {
      "cell_type": "code",
      "source": [
        "'''\n",
        "script en Python que tome el día de la semana\n",
        "y muestre un mensaje personalizado para cada\n",
        "uno de los días.\n",
        "'''\n",
        "#El módulo time nos permite acceder a la información de la fecha actual.\n",
        "import time\n",
        "\n",
        "'''\n",
        "Constantes para cada día. En el modulo time el lunes es \n",
        "el día 0 de la semana y el domingo el día 6.\n",
        "'''\n",
        "LUNES = 0\n",
        "MARTES = 1\n",
        "MIERCOLES = 2\n",
        "JUEVES = 3\n",
        "VIERNES = 4\n",
        "SABADO = 5\n",
        "\n",
        "#La siguiente instrucción consulta el día de la semana marcado en la computadora.\n",
        "dia_semana = time.localtime().tm_wday\n",
        "\n",
        "if dia_semana == LUNES:\n",
        "    print('Lunes... ¿Quién inventó los Lunes?')\n",
        "elif dia_semana == MARTES:\n",
        "    print('Martes de museos... virtuales.')\n",
        "elif dia_semana == MIERCOLES:\n",
        "    print('Miércoles de ceniza.')\n",
        "elif dia_semana == JUEVES:\n",
        "    print('Jueves de teatro... en casa.')\n",
        "elif dia_semana == VIERNES:\n",
        "    print('Viernes de aprender Python.')\n",
        "elif dia_semana == SABADO:\n",
        "    print('Sábado reponer horas de sueño.')\n",
        "else:\n",
        "    print('Domingo de tomar valor para una semana más.')"
      ],
      "outputs": [],
      "execution_count": null,
      "metadata": {
        "collapsed": true,
        "jupyter": {
          "source_hidden": false,
          "outputs_hidden": false
        },
        "nteract": {
          "transient": {
            "deleting": false
          }
        },
        "execution": {
          "iopub.status.busy": "2020-10-02T01:30:52.110Z",
          "iopub.execute_input": "2020-10-02T01:30:52.147Z",
          "iopub.status.idle": "2020-10-02T01:30:52.237Z",
          "shell.execute_reply": "2020-10-02T01:30:52.258Z"
        }
      }
    },
    {
      "cell_type": "markdown",
      "source": [
        "Un uso muy común de la estructura selectiva múltiple es la creación de menús. Para ello tendremos una variable que representa la elección del usuario y según lo que haya seleccionado podremos realizar la acción correspondiente a esa opción.\n",
        "\n",
        "Como ejemplo haremos un script que solicite dos valores enteros y nos permita seleccionar entre distintas operaciones aritméticas para finalmente mostrar el resultado. Validaremos que la opción seleccionada se pueda llevar a cabo."
      ],
      "metadata": {
        "nteract": {
          "transient": {
            "deleting": false
          }
        }
      }
    },
    {
      "cell_type": "code",
      "source": [
        "'''\n",
        "script en Python que muestre un menú para las\n",
        "operaciones aritméticas. El programa deberá\n",
        "solicitar dos operandos y mostrar el siguiente\n",
        "menú:\n",
        "1) Suma\n",
        "2) Resta\n",
        "3) Multiplicación\n",
        "4) División\n",
        "5) División entera\n",
        "6) Potencia\n",
        "7) Módulo\n",
        "\n",
        "El usuario deberá seleccionar una opción y el\n",
        "programa mostrará el resultado correspondiente.\n",
        "'''\n",
        "SUMA = 1\n",
        "RESTA = 2\n",
        "MULTIPLICACION = 3\n",
        "DIVISION = 4\n",
        "DIVISION_ENTERA = 5\n",
        "POTENCIA = 6\n",
        "MODULO = 7\n",
        "\n",
        "print('                     Calculadora')\n",
        "num1 = int(input('Primer operando: '))\n",
        "num2 = int(input('Segundo operando: '))\n",
        "\n",
        "#print con mensaje entre comillas triples para que muestre saltos de línea.\n",
        "print(f'''                     Operaciones\n",
        "{SUMA}) Suma\n",
        "{RESTA}) Resta\n",
        "{MULTIPLICACION}) Multiplicación\n",
        "{DIVISION}) División\n",
        "{DIVISION_ENTERA}) División entera\n",
        "{POTENCIA}) Potencia\n",
        "{MODULO}) Módulo''')\n",
        "#Solicitamos la opción por parte del usuario.\n",
        "opc = int(input('Selecciona una opción: '))\n",
        "\n",
        "#Creamos nuestra estructura selectiva múltiple comparando opc con distintos valores.\n",
        "if opc == SUMA:\n",
        "    resultado = num1 + num2;\n",
        "    print(f'{num1} + {num2} = {resultado}')\n",
        "elif opc == RESTA:\n",
        "    resultado = num1 - num2\n",
        "    print(f'{num1} - {num2} = {resultado}')\n",
        "elif opc == MULTIPLICACION:\n",
        "    resultado = num1 * num2\n",
        "    print(f'{num1} * {num2} = {resultado}')\n",
        "elif opc == DIVISION:\n",
        "    if num2 == 0:\n",
        "        print('Operación no definida')\n",
        "    else:\n",
        "        resultado = num1 / num2\n",
        "        print(f'{num1} / {num2} = {resultado}')\n",
        "elif opc == DIVISION_ENTERA:\n",
        "    if num2 == 0:\n",
        "        print('Operación no definida')\n",
        "    else:\n",
        "        resultado = num1 // num2\n",
        "        print(f'{num1} // {num2} = {resultado}')\n",
        "elif opc == POTENCIA:\n",
        "    resultado = num1 ** num2\n",
        "    print(f'{num1} ** {num2} = {resultado}')\n",
        "elif opc == MODULO:\n",
        "    if num2 == 0:\n",
        "        print('Operación no definida')\n",
        "    else:\n",
        "        resultado = num1 % num2\n",
        "        print(f'{num1} % {num2} = {resultado}')\n",
        "else:\n",
        "    print('Opción no válida')"
      ],
      "outputs": [],
      "execution_count": null,
      "metadata": {
        "collapsed": true,
        "jupyter": {
          "source_hidden": false,
          "outputs_hidden": false
        },
        "nteract": {
          "transient": {
            "deleting": false
          }
        },
        "execution": {
          "iopub.status.busy": "2020-10-02T02:27:06.697Z",
          "iopub.execute_input": "2020-10-02T02:27:06.720Z",
          "iopub.status.idle": "2020-10-02T02:27:15.948Z",
          "shell.execute_reply": "2020-10-02T02:27:15.997Z"
        }
      }
    },
    {
      "cell_type": "markdown",
      "source": [
        "Aquí tienes el <a href=\"https://drive.google.com/file/d/1qUS3USgRnjSvlQI54dpHC1q-JzEpudlI/view?usp=sharing\">enlace </a> con los scripts correspondientes a este cuaderno. Puede abrirlos en tu editor y tratar de correrlos ahí también."
      ],
      "metadata": {
        "nteract": {
          "transient": {
            "deleting": false
          }
        }
      }
    }
  ],
  "metadata": {
    "kernel_info": {
      "name": "venv"
    },
    "language_info": {
      "name": "python",
      "version": "3.7.3",
      "mimetype": "text/x-python",
      "codemirror_mode": {
        "name": "ipython",
        "version": 3
      },
      "pygments_lexer": "ipython3",
      "nbconvert_exporter": "python",
      "file_extension": ".py"
    },
    "kernelspec": {
      "argv": [
        "/home/fel/Documents/Profesor/nteract/venv/bin/python",
        "-m",
        "ipykernel_launcher",
        "-f",
        "{connection_file}"
      ],
      "display_name": "venv",
      "language": "python",
      "name": "venv"
    },
    "nteract": {
      "version": "0.25.1"
    }
  },
  "nbformat": 4,
  "nbformat_minor": 0
}